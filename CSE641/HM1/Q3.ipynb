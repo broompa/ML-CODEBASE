{
 "cells": [
  {
   "cell_type": "code",
   "execution_count": 3,
   "id": "convertible-coffee",
   "metadata": {},
   "outputs": [],
   "source": [
    "import numpy as np\n",
    "import matplotlib.pyplot as plt"
   ]
  },
  {
   "cell_type": "code",
   "execution_count": 155,
   "id": "accessory-drinking",
   "metadata": {},
   "outputs": [],
   "source": [
    "class Perceptron:\n",
    "    def __init__(self,act,nInputs,rate): \n",
    "        # x must be a row vector\n",
    "        self.w = np.random.random((1,nInputs)) # column vector\n",
    "        self.b = np.random.random((1,1)) # scalar \n",
    "        self.act = act\n",
    "        self.rate = rate\n",
    "    def activation(self,i):\n",
    "        r = 0\n",
    "        if (self.act == 'sigmoid'):\n",
    "            r = 1/(1 + np.exp(-i))\n",
    "        elif (self.act == 'relu'):\n",
    "            r = i if i>=0 else 0\n",
    "        else: \n",
    "            print(\"wrong act parameter, change it to 'sigmoid' or 'relu'\")\n",
    "        return r\n",
    "    def derivate(self,i):\n",
    "        r = 0\n",
    "        if (self.act == 'sigmoid'):\n",
    "            im = self.activation(i)\n",
    "            r = im*(1 - im) \n",
    "        elif (self.act == 'relu'):\n",
    "            r = 1 if i >= 0 else 0\n",
    "        else: \n",
    "            print(\"wrong act parameter, change it to 'sigmoid' or 'relu'\")\n",
    "        return r\n",
    "    def train(self,batch,labels):\n",
    "        # batch: row vectors stacked together in a matrix\n",
    "        error = 0\n",
    "        for i in range(batch.shape[0]):\n",
    "            y = self.activation(np.matmul(batch[i,:],self.w) + self.b)\n",
    "            delta = labels[i] - y\n",
    "            der = self.derivate(i)\n",
    "            self.w += self.rate*delta*der*batch[i,:].reshape(self.w.shape)\n",
    "            self.b += self.rate*delta*der\n",
    "            error = np.linalg.norm(labels - (np.matmul(batch,self.w) + self.b)) # 2-norn of differences(delta(s))\n",
    "            print(\"Epoch \"+ str(i+1)+\" : delta(\" + str(error)+\")\")          \n",
    "        "
   ]
  },
  {
   "cell_type": "code",
   "execution_count": 154,
   "id": "biblical-workstation",
   "metadata": {},
   "outputs": [
    {
     "name": "stdout",
     "output_type": "stream",
     "text": [
      "Epoch 1 : delta(16.157076059598985)\n",
      "Epoch 2 : delta(16.21298938403672)\n",
      "Epoch 3 : delta(15.444444755504179)\n",
      "Epoch 4 : delta(15.44483826736984)\n",
      "Epoch 5 : delta(15.122635333059868)\n",
      "Epoch 6 : delta(15.122639169209414)\n"
     ]
    }
   ],
   "source": [
    "P = Perceptron(act = 'sigmoid',nInputs = 1,rate = 0.1)\n",
    "data = np.array([0,2,4,8,10,12]).reshape((6,1))\n",
    "labels = np.array([0,1,0,1,0,1]).reshape((6,1))\n",
    "P.train(data,labels)"
   ]
  },
  {
   "cell_type": "code",
   "execution_count": null,
   "id": "subjective-porcelain",
   "metadata": {},
   "outputs": [],
   "source": []
  },
  {
   "cell_type": "code",
   "execution_count": null,
   "id": "weighted-harris",
   "metadata": {},
   "outputs": [],
   "source": []
  }
 ],
 "metadata": {
  "kernelspec": {
   "display_name": "Python 3",
   "language": "python",
   "name": "python3"
  },
  "language_info": {
   "codemirror_mode": {
    "name": "ipython",
    "version": 3
   },
   "file_extension": ".py",
   "mimetype": "text/x-python",
   "name": "python",
   "nbconvert_exporter": "python",
   "pygments_lexer": "ipython3",
   "version": "3.8.5"
  }
 },
 "nbformat": 4,
 "nbformat_minor": 5
}
