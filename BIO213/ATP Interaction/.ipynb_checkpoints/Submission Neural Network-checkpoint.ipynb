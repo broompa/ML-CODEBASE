{
 "cells": [
  {
   "cell_type": "code",
   "execution_count": 146,
   "metadata": {},
   "outputs": [
    {
     "name": "stdout",
     "output_type": "stream",
     "text": [
      "2.1.0\n"
     ]
    }
   ],
   "source": [
    "import tensorflow as tf\n",
    "from tensorflow import keras\n",
    "import numpy as np\n",
    "import matplotlib.pyplot as plt\n",
    "from sklearn.model_selection import train_test_split\n",
    "print(tf.__version__)"
   ]
  },
  {
   "cell_type": "code",
   "execution_count": 147,
   "metadata": {},
   "outputs": [],
   "source": [
    "ProteinDict={'A':0,'R':1,'N':2,'D':3,'C':4,'Q':5,'E':6,'G':7,'H':8,'I':9,'L':10,'K':11,'M':12,'F':13,'P':14,'S':15,'T':16,'W':17,'Y':18,'V':19,'U':20,'O':21,'X':22}\n",
    "def getVector(ls, wSize): # list of Protein Sequences, wSize - windows Size(must be odd)\n",
    "\tassert wSize%2==1\n",
    "\tk=(wSize-1)//2\n",
    "\tvectors=[]\n",
    "\tlabel=[]\n",
    "\tc=0\n",
    "\tfor i in range(len(ls)):\n",
    "\t\tfor j in range(len(ls[i])):\n",
    "\t\t\tif (j<k):\n",
    "\t\t\t\ts=\"X\"*(k-j)+ls[i][0:j+k+1]\n",
    "\t\t\telif (len(ls[i])-j<wSize):\n",
    "\t\t\t\ts=ls[i][j:len(ls[i])]+\"X\"*(wSize+j-len(ls[i]))\n",
    "\t\t\telse :\n",
    "\t\t\t\ts = ls[i][j:j+wSize]\n",
    "\t\t\tvectors.append(list(map(lambda x : ProteinDict[x.upper()],list(s))))\n",
    "\t\t\tlabel.append(1 if s[k].islower() else 0)# 1 - atp interactive ,0-atp uninteractive\n",
    "\tvectors = np.array(vectors)\n",
    "\tlabel= np.array(label)\n",
    "\treturn vectors,label "
   ]
  },
  {
   "cell_type": "code",
   "execution_count": 148,
   "metadata": {},
   "outputs": [],
   "source": [
    "train = \"train.data\"\n",
    "test = 'test1.txt'\n",
    "with open(train,'r') as file:\n",
    "    d = list(map(lambda x : x.split(',')[1].replace('\\n',''),file.read().split('>')[1:]))\n",
    "trainDataX,trainDataY = getVector(d,17)\n",
    "X_train,X_test,Y_train,Y_test=train_test_split(trainDataX,trainDataY,test_size=0.60)"
   ]
  },
  {
   "cell_type": "code",
   "execution_count": 149,
   "metadata": {},
   "outputs": [
    {
     "name": "stdout",
     "output_type": "stream",
     "text": [
      "<TensorSliceDataset shapes: ((17,), ()), types: (tf.int64, tf.int64)>\n"
     ]
    }
   ],
   "source": [
    "# train_dataset = tf.data.Dataset.from_tensor_slices((X_train,Y_train))\n",
    "# test_dataset = tf.data.Datarset.from_tensor_slices((X_test,Y_test))\n",
    "print(train_dataset)"
   ]
  },
  {
   "cell_type": "code",
   "execution_count": 150,
   "metadata": {},
   "outputs": [],
   "source": [
    "# BATCH_SIZE = 8 \n",
    "# SHUFFLE_BUFFER_SIZE = 100\n",
    "\n",
    "# train_dataset = train_dataset.shuffle(SHUFFLE_BUFFER_SIZE).batch(BATCH_SIZE)\n",
    "# test_dataset = test_dataset.batch(BATCH_SIZE)\n",
    "# print(train_dataset)"
   ]
  },
  {
   "cell_type": "code",
   "execution_count": 160,
   "metadata": {},
   "outputs": [],
   "source": [
    "# model = tf.keras.Sequential([\n",
    "#     tf.keras.layers.Dense(17,activation='relu'),\n",
    "#     tf.keras.layers.Dense(128,activation='relu'),\n",
    "#     tf.keras.layers.Dense(2,activation='softmax')\n",
    "# ])\n",
    "\n",
    "inputs = tf.keras.Input(shape=(17,),name='digits')\n",
    "x = tf.keras.layers.Dense(64,activation='relu',name='dense_1')(inputs)\n",
    "x = tf.keras.layers.Dense(64,activation='relu',name='dense_2')(x)\n",
    "outputs = tf.keras.layers.Dense(2,activation='softmax',name ='predictions')(x)\n",
    "\n",
    "model = tf.keras.Model(inputs =inputs , outputs = outputs)\n",
    "\n",
    "model.compile(optimizer=keras.optimizers.RMSprop(), \n",
    "              loss=keras.losses.SparseCategoricalCrossentropy(from_logits=True),\n",
    "              metrics=['sparse_categorical_accuracy'])"
   ]
  },
  {
   "cell_type": "code",
   "execution_count": 159,
   "metadata": {},
   "outputs": [
    {
     "name": "stdout",
     "output_type": "stream",
     "text": [
      "Train on 49307 samples\n",
      "Epoch 1/10\n",
      "49307/49307 [==============================] - 2s 38us/sample - loss: 0.3621 - sparse_categorical_accuracy: 0.9511\n",
      "Epoch 2/10\n",
      "49307/49307 [==============================] - 2s 36us/sample - loss: 0.3621 - sparse_categorical_accuracy: 0.9511\n",
      "Epoch 3/10\n",
      "49307/49307 [==============================] - 2s 35us/sample - loss: 0.3621 - sparse_categorical_accuracy: 0.9511\n",
      "Epoch 4/10\n",
      "49307/49307 [==============================] - 2s 38us/sample - loss: 0.3621 - sparse_categorical_accuracy: 0.9511\n",
      "Epoch 5/10\n",
      "49307/49307 [==============================] - 2s 37us/sample - loss: 0.3621 - sparse_categorical_accuracy: 0.9511\n",
      "Epoch 6/10\n",
      "49307/49307 [==============================] - 2s 36us/sample - loss: 0.3621 - sparse_categorical_accuracy: 0.9511\n",
      "Epoch 7/10\n",
      "49307/49307 [==============================] - 2s 38us/sample - loss: 0.3621 - sparse_categorical_accuracy: 0.9511\n",
      "Epoch 8/10\n",
      "49307/49307 [==============================] - 2s 37us/sample - loss: 0.3621 - sparse_categorical_accuracy: 0.9511\n",
      "Epoch 9/10\n",
      "49307/49307 [==============================] - 2s 37us/sample - loss: 0.3621 - sparse_categorical_accuracy: 0.9511\n",
      "Epoch 10/10\n",
      "49307/49307 [==============================] - 2s 40us/sample - loss: 0.3621 - sparse_categorical_accuracy: 0.9511\n"
     ]
    },
    {
     "data": {
      "text/plain": [
       "<tensorflow.python.keras.callbacks.History at 0x7f7cd819c2b0>"
      ]
     },
     "execution_count": 159,
     "metadata": {},
     "output_type": "execute_result"
    }
   ],
   "source": [
    "# model.fit(X_train,Y_train,epochs=10)\n",
    "model.fit(trainDataX,trainDataY,epochs=10,batch_size=40)"
   ]
  },
  {
   "cell_type": "code",
   "execution_count": 153,
   "metadata": {},
   "outputs": [],
   "source": [
    "# model.evaluate(X_test,Y_test)\n",
    "# model.pridict()"
   ]
  },
  {
   "cell_type": "code",
   "execution_count": 155,
   "metadata": {},
   "outputs": [],
   "source": [
    "with open(test,'r') as file:\n",
    "    testRawData=file.read().split('\\n')[1:-1]\n",
    "    indexes=list(map(lambda x: x.split(',')[0] ,testRawData))\n",
    "    testRawData=list(map(lambda x: x.split(',')[1] ,testRawData))\n",
    "    testRawData=[''.join(testRawData)]\n",
    "test_X=getVector(testRawData,17)\n",
    "prediction = model.predict(test_X[0])\n",
    "prediction = list(map(np.argmax,prediction))\n",
    "\n",
    "#kaggle submission format \n",
    "prediction = list(map(lambda x: str(\"+1\") if x==1 else str('-1') ,prediction))\n",
    "\n",
    "s='\\n'.join([indexes[i]+\",\"+str(prediction[i]) for i in range(len(indexes))])\n",
    "s=\"ID,Lable\\n\"+\"\\n\".join([indexes[i]+\",\"+str(prediction[i]) for i in range(len(indexes))])\n",
    "with open(\"submission.txt\",'w') as file:\n",
    "    file.write(s)"
   ]
  },
  {
   "cell_type": "code",
   "execution_count": null,
   "metadata": {},
   "outputs": [],
   "source": []
  }
 ],
 "metadata": {
  "kernelspec": {
   "display_name": "Python 3",
   "language": "python",
   "name": "python3"
  },
  "language_info": {
   "codemirror_mode": {
    "name": "ipython",
    "version": 3
   },
   "file_extension": ".py",
   "mimetype": "text/x-python",
   "name": "python",
   "nbconvert_exporter": "python",
   "pygments_lexer": "ipython3",
   "version": "3.6.9"
  }
 },
 "nbformat": 4,
 "nbformat_minor": 4
}
