{
  "nbformat": 4,
  "nbformat_minor": 5,
  "metadata": {
    "kernelspec": {
      "display_name": "Python 3",
      "language": "python",
      "name": "python3"
    },
    "language_info": {
      "codemirror_mode": {
        "name": "ipython",
        "version": 3
      },
      "file_extension": ".py",
      "mimetype": "text/x-python",
      "name": "python",
      "nbconvert_exporter": "python",
      "pygments_lexer": "ipython3",
      "version": "3.8.5"
    },
    "colab": {
      "name": "RUN.ipynb",
      "provenance": []
    },
    "accelerator": "GPU",
    "widgets": {
      "application/vnd.jupyter.widget-state+json": {
        "c2c00bc9285b4060aaf07b12244ca019": {
          "model_module": "@jupyter-widgets/controls",
          "model_name": "HBoxModel",
          "state": {
            "_view_name": "HBoxView",
            "_dom_classes": [],
            "_model_name": "HBoxModel",
            "_view_module": "@jupyter-widgets/controls",
            "_model_module_version": "1.5.0",
            "_view_count": null,
            "_view_module_version": "1.5.0",
            "box_style": "",
            "layout": "IPY_MODEL_a28dc84dd30249839fca06cc839a4f2d",
            "_model_module": "@jupyter-widgets/controls",
            "children": [
              "IPY_MODEL_1c97031be056434f9e60436614d3c8dd",
              "IPY_MODEL_230a947b852743239f6241d3e88af0cd"
            ]
          }
        },
        "a28dc84dd30249839fca06cc839a4f2d": {
          "model_module": "@jupyter-widgets/base",
          "model_name": "LayoutModel",
          "state": {
            "_view_name": "LayoutView",
            "grid_template_rows": null,
            "right": null,
            "justify_content": null,
            "_view_module": "@jupyter-widgets/base",
            "overflow": null,
            "_model_module_version": "1.2.0",
            "_view_count": null,
            "flex_flow": null,
            "width": null,
            "min_width": null,
            "border": null,
            "align_items": null,
            "bottom": null,
            "_model_module": "@jupyter-widgets/base",
            "top": null,
            "grid_column": null,
            "overflow_y": null,
            "overflow_x": null,
            "grid_auto_flow": null,
            "grid_area": null,
            "grid_template_columns": null,
            "flex": null,
            "_model_name": "LayoutModel",
            "justify_items": null,
            "grid_row": null,
            "max_height": null,
            "align_content": null,
            "visibility": null,
            "align_self": null,
            "height": null,
            "min_height": null,
            "padding": null,
            "grid_auto_rows": null,
            "grid_gap": null,
            "max_width": null,
            "order": null,
            "_view_module_version": "1.2.0",
            "grid_template_areas": null,
            "object_position": null,
            "object_fit": null,
            "grid_auto_columns": null,
            "margin": null,
            "display": null,
            "left": null
          }
        },
        "1c97031be056434f9e60436614d3c8dd": {
          "model_module": "@jupyter-widgets/controls",
          "model_name": "FloatProgressModel",
          "state": {
            "_view_name": "ProgressView",
            "style": "IPY_MODEL_0aef117b50254bcfa763c8aa0b7453d5",
            "_dom_classes": [],
            "description": "100%",
            "_model_name": "FloatProgressModel",
            "bar_style": "success",
            "max": 553433881,
            "_view_module": "@jupyter-widgets/controls",
            "_model_module_version": "1.5.0",
            "value": 553433881,
            "_view_count": null,
            "_view_module_version": "1.5.0",
            "orientation": "horizontal",
            "min": 0,
            "description_tooltip": null,
            "_model_module": "@jupyter-widgets/controls",
            "layout": "IPY_MODEL_e8b991270f1048de897f858ebfaa1594"
          }
        },
        "230a947b852743239f6241d3e88af0cd": {
          "model_module": "@jupyter-widgets/controls",
          "model_name": "HTMLModel",
          "state": {
            "_view_name": "HTMLView",
            "style": "IPY_MODEL_64dc835dcfdb444e8336186adb8fa764",
            "_dom_classes": [],
            "description": "",
            "_model_name": "HTMLModel",
            "placeholder": "​",
            "_view_module": "@jupyter-widgets/controls",
            "_model_module_version": "1.5.0",
            "value": " 528M/528M [00:36&lt;00:00, 15.0MB/s]",
            "_view_count": null,
            "_view_module_version": "1.5.0",
            "description_tooltip": null,
            "_model_module": "@jupyter-widgets/controls",
            "layout": "IPY_MODEL_00646288bcce438b8f017e14699ad185"
          }
        },
        "0aef117b50254bcfa763c8aa0b7453d5": {
          "model_module": "@jupyter-widgets/controls",
          "model_name": "ProgressStyleModel",
          "state": {
            "_view_name": "StyleView",
            "_model_name": "ProgressStyleModel",
            "description_width": "initial",
            "_view_module": "@jupyter-widgets/base",
            "_model_module_version": "1.5.0",
            "_view_count": null,
            "_view_module_version": "1.2.0",
            "bar_color": null,
            "_model_module": "@jupyter-widgets/controls"
          }
        },
        "e8b991270f1048de897f858ebfaa1594": {
          "model_module": "@jupyter-widgets/base",
          "model_name": "LayoutModel",
          "state": {
            "_view_name": "LayoutView",
            "grid_template_rows": null,
            "right": null,
            "justify_content": null,
            "_view_module": "@jupyter-widgets/base",
            "overflow": null,
            "_model_module_version": "1.2.0",
            "_view_count": null,
            "flex_flow": null,
            "width": null,
            "min_width": null,
            "border": null,
            "align_items": null,
            "bottom": null,
            "_model_module": "@jupyter-widgets/base",
            "top": null,
            "grid_column": null,
            "overflow_y": null,
            "overflow_x": null,
            "grid_auto_flow": null,
            "grid_area": null,
            "grid_template_columns": null,
            "flex": null,
            "_model_name": "LayoutModel",
            "justify_items": null,
            "grid_row": null,
            "max_height": null,
            "align_content": null,
            "visibility": null,
            "align_self": null,
            "height": null,
            "min_height": null,
            "padding": null,
            "grid_auto_rows": null,
            "grid_gap": null,
            "max_width": null,
            "order": null,
            "_view_module_version": "1.2.0",
            "grid_template_areas": null,
            "object_position": null,
            "object_fit": null,
            "grid_auto_columns": null,
            "margin": null,
            "display": null,
            "left": null
          }
        },
        "64dc835dcfdb444e8336186adb8fa764": {
          "model_module": "@jupyter-widgets/controls",
          "model_name": "DescriptionStyleModel",
          "state": {
            "_view_name": "StyleView",
            "_model_name": "DescriptionStyleModel",
            "description_width": "",
            "_view_module": "@jupyter-widgets/base",
            "_model_module_version": "1.5.0",
            "_view_count": null,
            "_view_module_version": "1.2.0",
            "_model_module": "@jupyter-widgets/controls"
          }
        },
        "00646288bcce438b8f017e14699ad185": {
          "model_module": "@jupyter-widgets/base",
          "model_name": "LayoutModel",
          "state": {
            "_view_name": "LayoutView",
            "grid_template_rows": null,
            "right": null,
            "justify_content": null,
            "_view_module": "@jupyter-widgets/base",
            "overflow": null,
            "_model_module_version": "1.2.0",
            "_view_count": null,
            "flex_flow": null,
            "width": null,
            "min_width": null,
            "border": null,
            "align_items": null,
            "bottom": null,
            "_model_module": "@jupyter-widgets/base",
            "top": null,
            "grid_column": null,
            "overflow_y": null,
            "overflow_x": null,
            "grid_auto_flow": null,
            "grid_area": null,
            "grid_template_columns": null,
            "flex": null,
            "_model_name": "LayoutModel",
            "justify_items": null,
            "grid_row": null,
            "max_height": null,
            "align_content": null,
            "visibility": null,
            "align_self": null,
            "height": null,
            "min_height": null,
            "padding": null,
            "grid_auto_rows": null,
            "grid_gap": null,
            "max_width": null,
            "order": null,
            "_view_module_version": "1.2.0",
            "grid_template_areas": null,
            "object_position": null,
            "object_fit": null,
            "grid_auto_columns": null,
            "margin": null,
            "display": null,
            "left": null
          }
        }
      }
    }
  },
  "cells": [
    {
      "cell_type": "code",
      "metadata": {
        "id": "superb-perry"
      },
      "source": [
        "%matplotlib inline\n",
        "%config InlineBackend.figure_format = 'retina'\n",
        "\n",
        "import matplotlib.pyplot as plt\n",
        "\n",
        "import torch\n",
        "from torch import nn\n",
        "from torch import optim\n",
        "import torch.nn.functional as F\n",
        "from torchvision import datasets, transforms, models\n",
        "import numpy as np\n",
        "from sklearn.model_selection import train_test_split\n",
        "from collections import OrderedDict"
      ],
      "id": "superb-perry",
      "execution_count": 1,
      "outputs": []
    },
    {
      "cell_type": "code",
      "metadata": {
        "colab": {
          "base_uri": "https://localhost:8080/"
        },
        "id": "rf-Cyfmz1jsR",
        "outputId": "c116a860-1e1d-4f06-b713-8378827e3d36"
      },
      "source": [
        "from google.colab import drive\n",
        "drive.mount('/content/drive')\n",
        "import os\n",
        "cwd = os.getcwd()\n",
        "path = os.getcwd() + '/drive/MyDrive/ML/TFLearn/'\n",
        "# os.chdir(path)\n",
        "# !unzip '/content/drive/MyDrive/DL_Course/HM_3_Part_2/glove.6B.zip'\n",
        "# os.chdir(cwd)\n",
        "# del cwd"
      ],
      "id": "rf-Cyfmz1jsR",
      "execution_count": 2,
      "outputs": [
        {
          "output_type": "stream",
          "text": [
            "Mounted at /content/drive\n"
          ],
          "name": "stdout"
        }
      ]
    },
    {
      "cell_type": "code",
      "metadata": {
        "id": "aboriginal-means"
      },
      "source": [
        "# path = \"./\"\n",
        "\n",
        "def train_val_split(dataset , split = 0.2):\n",
        "    train_idx , val_idx = train_test_split(list(range(len(dataset))), test_size = split)\n",
        "    train_set = torch.utils.data.Subset(dataset, train_idx)\n",
        "    val_set = torch.utils.data.Subset(dataset, val_idx)\n",
        "    return train_set, val_set\n",
        "\n",
        "def confusion_matrix(true, pred):\n",
        "    uniq = np.unique(true)\n",
        "    mat = np.zeros((len(uniq),len(uniq)))\n",
        "    for i in range(len(uniq)):\n",
        "        indicies = np.where(uniq[i] == true)\n",
        "        for j in range(len(uniq)):\n",
        "            mat[i,j] = len(np.where(pred[indicies] == uniq[j])[0])\n",
        "    return mat\n",
        "\n",
        "def classwise_acc(mat):\n",
        "    return mat.diagonal() / mat.sum(1)\n",
        "\n",
        "def classwise_conf_matix(mat):\n",
        "    l = []\n",
        "    for i in range(len(mat)):\n",
        "        a = np.array([[mat[i,i],mat[i,:].sum() - mat[i,i]],[ mat[:,i].sum() - mat[i,i],mat.sum() - mat[i,:].sum() - mat[:,i].sum() + mat[i,i]]])\n",
        "        l.append(a)\n",
        "    return l"
      ],
      "id": "aboriginal-means",
      "execution_count": 3,
      "outputs": []
    },
    {
      "cell_type": "code",
      "metadata": {
        "colab": {
          "base_uri": "https://localhost:8080/"
        },
        "id": "dated-injury",
        "outputId": "da885496-1e37-4950-ad2b-979baa4573d7"
      },
      "source": [
        "transform = transforms.Compose(\n",
        "    [transforms.ToTensor(),\n",
        "     transforms.Normalize((0.5, 0.5, 0.5), (0.5, 0.5, 0.5))])\n",
        "\n",
        "batch_size = 128\n",
        "\n",
        "trainset = datasets.CIFAR10(root=path + 'data', train=True,\n",
        "                                        download=True, transform=transform)\n",
        "\n",
        "testset = datasets.CIFAR10(root=path + 'data', train=False,\n",
        "                                       download=True, transform=transform)\n",
        "\n",
        "trainset, valset = train_val_split(trainset, split  = 0.2)\n",
        "\n",
        "trainloader = torch.utils.data.DataLoader(trainset, batch_size=batch_size,\n",
        "                                          shuffle=True, num_workers=2)\n",
        "\n",
        "valloader =  torch.utils.data.DataLoader(valset, batch_size=batch_size,\n",
        "                                          shuffle=True, num_workers=2)\n",
        "\n",
        "testloader = torch.utils.data.DataLoader(testset, batch_size=batch_size,\n",
        "                                         shuffle=False, num_workers=2)\n",
        "\n",
        "classes = ('plane', 'car', 'bird', 'cat',\n",
        "           'deer', 'dog', 'frog', 'horse', 'ship', 'truck')"
      ],
      "id": "dated-injury",
      "execution_count": 4,
      "outputs": [
        {
          "output_type": "stream",
          "text": [
            "Files already downloaded and verified\n",
            "Files already downloaded and verified\n"
          ],
          "name": "stdout"
        }
      ]
    },
    {
      "cell_type": "code",
      "metadata": {
        "colab": {
          "base_uri": "https://localhost:8080/",
          "height": 848,
          "referenced_widgets": [
            "c2c00bc9285b4060aaf07b12244ca019",
            "a28dc84dd30249839fca06cc839a4f2d",
            "1c97031be056434f9e60436614d3c8dd",
            "230a947b852743239f6241d3e88af0cd",
            "0aef117b50254bcfa763c8aa0b7453d5",
            "e8b991270f1048de897f858ebfaa1594",
            "64dc835dcfdb444e8336186adb8fa764",
            "00646288bcce438b8f017e14699ad185"
          ]
        },
        "id": "dimensional-defeat",
        "outputId": "f9f122dd-5ecf-4617-ba15-49ba483b9601"
      },
      "source": [
        "model = models.vgg16(pretrained = True)\n",
        "model"
      ],
      "id": "dimensional-defeat",
      "execution_count": 5,
      "outputs": [
        {
          "output_type": "stream",
          "text": [
            "Downloading: \"https://download.pytorch.org/models/vgg16-397923af.pth\" to /root/.cache/torch/hub/checkpoints/vgg16-397923af.pth\n"
          ],
          "name": "stderr"
        },
        {
          "output_type": "display_data",
          "data": {
            "application/vnd.jupyter.widget-view+json": {
              "model_id": "c2c00bc9285b4060aaf07b12244ca019",
              "version_minor": 0,
              "version_major": 2
            },
            "text/plain": [
              "HBox(children=(FloatProgress(value=0.0, max=553433881.0), HTML(value='')))"
            ]
          },
          "metadata": {
            "tags": []
          }
        },
        {
          "output_type": "stream",
          "text": [
            "\n"
          ],
          "name": "stdout"
        },
        {
          "output_type": "execute_result",
          "data": {
            "text/plain": [
              "VGG(\n",
              "  (features): Sequential(\n",
              "    (0): Conv2d(3, 64, kernel_size=(3, 3), stride=(1, 1), padding=(1, 1))\n",
              "    (1): ReLU(inplace=True)\n",
              "    (2): Conv2d(64, 64, kernel_size=(3, 3), stride=(1, 1), padding=(1, 1))\n",
              "    (3): ReLU(inplace=True)\n",
              "    (4): MaxPool2d(kernel_size=2, stride=2, padding=0, dilation=1, ceil_mode=False)\n",
              "    (5): Conv2d(64, 128, kernel_size=(3, 3), stride=(1, 1), padding=(1, 1))\n",
              "    (6): ReLU(inplace=True)\n",
              "    (7): Conv2d(128, 128, kernel_size=(3, 3), stride=(1, 1), padding=(1, 1))\n",
              "    (8): ReLU(inplace=True)\n",
              "    (9): MaxPool2d(kernel_size=2, stride=2, padding=0, dilation=1, ceil_mode=False)\n",
              "    (10): Conv2d(128, 256, kernel_size=(3, 3), stride=(1, 1), padding=(1, 1))\n",
              "    (11): ReLU(inplace=True)\n",
              "    (12): Conv2d(256, 256, kernel_size=(3, 3), stride=(1, 1), padding=(1, 1))\n",
              "    (13): ReLU(inplace=True)\n",
              "    (14): Conv2d(256, 256, kernel_size=(3, 3), stride=(1, 1), padding=(1, 1))\n",
              "    (15): ReLU(inplace=True)\n",
              "    (16): MaxPool2d(kernel_size=2, stride=2, padding=0, dilation=1, ceil_mode=False)\n",
              "    (17): Conv2d(256, 512, kernel_size=(3, 3), stride=(1, 1), padding=(1, 1))\n",
              "    (18): ReLU(inplace=True)\n",
              "    (19): Conv2d(512, 512, kernel_size=(3, 3), stride=(1, 1), padding=(1, 1))\n",
              "    (20): ReLU(inplace=True)\n",
              "    (21): Conv2d(512, 512, kernel_size=(3, 3), stride=(1, 1), padding=(1, 1))\n",
              "    (22): ReLU(inplace=True)\n",
              "    (23): MaxPool2d(kernel_size=2, stride=2, padding=0, dilation=1, ceil_mode=False)\n",
              "    (24): Conv2d(512, 512, kernel_size=(3, 3), stride=(1, 1), padding=(1, 1))\n",
              "    (25): ReLU(inplace=True)\n",
              "    (26): Conv2d(512, 512, kernel_size=(3, 3), stride=(1, 1), padding=(1, 1))\n",
              "    (27): ReLU(inplace=True)\n",
              "    (28): Conv2d(512, 512, kernel_size=(3, 3), stride=(1, 1), padding=(1, 1))\n",
              "    (29): ReLU(inplace=True)\n",
              "    (30): MaxPool2d(kernel_size=2, stride=2, padding=0, dilation=1, ceil_mode=False)\n",
              "  )\n",
              "  (avgpool): AdaptiveAvgPool2d(output_size=(7, 7))\n",
              "  (classifier): Sequential(\n",
              "    (0): Linear(in_features=25088, out_features=4096, bias=True)\n",
              "    (1): ReLU(inplace=True)\n",
              "    (2): Dropout(p=0.5, inplace=False)\n",
              "    (3): Linear(in_features=4096, out_features=4096, bias=True)\n",
              "    (4): ReLU(inplace=True)\n",
              "    (5): Dropout(p=0.5, inplace=False)\n",
              "    (6): Linear(in_features=4096, out_features=1000, bias=True)\n",
              "  )\n",
              ")"
            ]
          },
          "metadata": {
            "tags": []
          },
          "execution_count": 5
        }
      ]
    },
    {
      "cell_type": "code",
      "metadata": {
        "id": "residential-casino"
      },
      "source": [
        "for params in model.parameters():\n",
        "    params.require_grad = False\n",
        "\n",
        "classifier = nn.Sequential(OrderedDict([\n",
        "    ('fc1', nn.Linear(25088,4096)),\n",
        "    ('relu1',nn.ReLU()),\n",
        "    ('fc2',nn.Linear(4096,2048)),\n",
        "    ('relu2',nn.ReLU()),\n",
        "    ('fc3',nn.Linear(2048,2048)),\n",
        "    ('relu3',nn.ReLU()),\n",
        "    ('fc4',nn.Linear(2048,2048)),\n",
        "    ('relu4',nn.ReLU()),\n",
        "    ('fc5',nn.Linear(2048,2048)),\n",
        "    ('relu5',nn.ReLU()),\n",
        "    ('fc6',nn.Linear(2048,2048)),\n",
        "    ('relu6',nn.ReLU()),\n",
        "    ('fc7', nn.Linear(2048,10)),\n",
        "    ('output',nn.LogSoftmax(dim = 1))\n",
        "    ]))\n",
        "model.classifier = classifier\n",
        "\n",
        "criterion = nn.NLLLoss()\n",
        "optimizer = optim.Adam(model.classifier.parameters(), lr=0.005)\n",
        "device = torch.device(\"cuda\" if torch.cuda.is_available() else \"cpu\")\n",
        "\n",
        "model = model.to(device)\n",
        "\n",
        "epochs = 20\n",
        "train_loss = []\n",
        "val_loss  = []\n",
        "verbose_idx = 20\n",
        "train = False\n",
        "val = True"
      ],
      "id": "residential-casino",
      "execution_count": 6,
      "outputs": []
    },
    {
      "cell_type": "code",
      "metadata": {
        "scrolled": true,
        "id": "municipal-flash"
      },
      "source": [
        "if train :\n",
        "    for e in range(epochs):\n",
        "        running_loss = 0\n",
        "        model.train()\n",
        "        for idx, data in enumerate(trainloader):\n",
        "            features = data[0].to(device)\n",
        "            labels = data[1].to(device)\n",
        "\n",
        "            optimizer.zero_grad()\n",
        "            logps = model(features)\n",
        "            loss = criterion(logps, labels)\n",
        "            loss.backward()\n",
        "            optimizer.step()\n",
        "            running_loss += loss.item()\n",
        "            if (idx %verbose_idx == 0):\n",
        "                print(\"Epoch: {}, Idx: {}, Train Loss: {}\".format(e,idx,loss.item()))\n",
        "        train_loss.append(running_loss/len(trainloader))\n",
        "        running_loss = 0\n",
        "        acc = 0 \n",
        "        model.eval()\n",
        "        with torch.no_grad():\n",
        "            if val : \n",
        "                for idx, data in enumerate(valloader):\n",
        "                    features = data[0].to(device)\n",
        "                    labels = data[1].to(device)\n",
        "\n",
        "                    logps = model(features)\n",
        "                    loss = criterion(logps, labels)\n",
        "                    running_loss += loss.item()\n",
        "                    var = torch.exp(logps).max(1)[1]\n",
        "                    acc += var.eq(labels.data.view_as(var)).sum()\n",
        "                val_loss.append(running_loss/len(valloader))\n",
        "                print(\"Epoch: {}, Train Loss: {}, Test Loss: {}, Acc: {}\".format(e,train_loss[-1],val_loss[-1],acc/len(valloader.dataset)))\n",
        "        params = {'state_dict': model.state_dict() , 'train_loss': train_loss,  'val_loss': val_loss}\n",
        "        torch.save(params, path + \"modified_vgg16.pth\")\n",
        "        print(\"Model Saved\")\n",
        "else :\n",
        "    params = torch.load(path + 'modified_vgg16.pth')\n",
        "    train_loss = params['train_loss']\n",
        "    val_loss = params['val_loss']\n",
        "    model.load_state_dict(params['state_dict'])"
      ],
      "id": "municipal-flash",
      "execution_count": 7,
      "outputs": []
    },
    {
      "cell_type": "code",
      "metadata": {
        "id": "kuw6LeD96ezl"
      },
      "source": [
        ""
      ],
      "id": "kuw6LeD96ezl",
      "execution_count": 7,
      "outputs": []
    },
    {
      "cell_type": "code",
      "metadata": {
        "colab": {
          "base_uri": "https://localhost:8080/",
          "height": 278
        },
        "id": "tested-condition",
        "outputId": "d226b4dc-b31b-457f-ad46-709d6ab68177"
      },
      "source": [
        "x = np.array(list(range(len(train_loss)))) + 1\n",
        "plt.plot(x,train_loss,label = 'TrainLoss')\n",
        "plt.plot(x,val_loss,label = \"ValLoss\")\n",
        "plt.xlabel('Epochs')\n",
        "plt.ylabel('Loss')\n",
        "plt.legend()\n",
        "plt.show()"
      ],
      "id": "tested-condition",
      "execution_count": 8,
      "outputs": [
        {
          "output_type": "display_data",
          "data": {
            "image/png": "[encoded data removed]",
            "text/plain": [
              "<Figure size 432x288 with 1 Axes>"
            ]
          },
          "metadata": {
            "tags": [],
            "image/png": {
              "width": 382,
              "height": 261
            },
            "needs_background": "light"
          }
        }
      ]
    },
    {
      "cell_type": "markdown",
      "metadata": {
        "id": "dangerous-convergence"
      },
      "source": [
        "### Test Accuracy & Confusion Matrix\n"
      ],
      "id": "dangerous-convergence"
    },
    {
      "cell_type": "code",
      "metadata": {
        "scrolled": true,
        "colab": {
          "base_uri": "https://localhost:8080/",
          "height": 480
        },
        "id": "descending-colon",
        "outputId": "44b023d4-0a0e-4ba3-ea7e-db082b5835f2"
      },
      "source": [
        "label_GT = np.zeros((0,))\n",
        "label_pred = np.zeros((0,))\n",
        "acc = 0\n",
        "model.eval()\n",
        "with torch.no_grad():\n",
        "    for idx, data in enumerate(testloader):\n",
        "        \n",
        "        features, labels = data[0].to(device), data[1].to(device)\n",
        "        pred = torch.exp(model(features)).data.max(1)[1]\n",
        "\n",
        "        label_GT = np.concatenate([label_GT, labels.cpu().numpy()])\n",
        "        label_pred = np.concatenate([label_pred, pred.cpu().numpy()])\n",
        "        acc += pred.eq(labels.data.view_as(pred)).sum()\n",
        "    \n",
        "print(\"Test Accuracy: {}\".format(acc / len(testloader.dataset)))\n",
        "mat = confusion_matrix(label_GT , label_pred)\n",
        "plt.matshow(mat/mat.sum(1),cmap = plt.cm.Blues)\n",
        "plt.xticks(range(10),classes, rotation = 'vertical')\n",
        "plt.yticks(range(10),classes)\n",
        "plt.show()\n",
        "print(mat)\n",
        "\n"
      ],
      "id": "descending-colon",
      "execution_count": 13,
      "outputs": [
        {
          "output_type": "stream",
          "text": [
            "Test Accuracy: 0.6243000030517578\n"
          ],
          "name": "stdout"
        },
        {
          "output_type": "display_data",
          "data": {
            "image/png": "[encoded data removed]",
            "text/plain": [
              "<Figure size 288x288 with 1 Axes>"
            ]
          },
          "metadata": {
            "tags": [],
            "image/png": {
              "width": 272,
              "height": 276
            },
            "needs_background": "light"
          }
        },
        {
          "output_type": "stream",
          "text": [
            "[[682.  25.  72.  24.  13.   4.  10.  17. 117.  36.]\n",
            " [ 24. 763.  13.  48.   0.   8.   6.   6.  63.  69.]\n",
            " [ 70.   6. 623.  59.  51.  49.  92.  26.  21.   3.]\n",
            " [ 23.  22.  79. 560.  24. 122. 108.  26.  15.  21.]\n",
            " [ 41.  10. 202.  72. 398.  31. 120. 102.  18.   6.]\n",
            " [  7.  10.  81. 250.  27. 521.  53.  34.  11.   6.]\n",
            " [ 13.  11. 112.  93.  21.  21. 713.   5.  10.   1.]\n",
            " [ 38.  17.  67.  67.  55. 103.   8. 609.  12.  24.]\n",
            " [113.  56.  21.  36.   7.   0.   9.   9. 698.  51.]\n",
            " [ 31. 168.   5.  29.   2.   7.   3.  15.  64. 676.]]\n"
          ],
          "name": "stdout"
        }
      ]
    },
    {
      "cell_type": "markdown",
      "metadata": {
        "id": "j5ldSDQd9Z8y"
      },
      "source": [
        "### Classwise Accuracy and Classwise Confusion Matrix"
      ],
      "id": "j5ldSDQd9Z8y"
    },
    {
      "cell_type": "code",
      "metadata": {
        "id": "hindu-posting"
      },
      "source": [
        "cw_acc = classwise_acc(mat)\n",
        "cw_mats = classwise_conf_matix(mat)"
      ],
      "id": "hindu-posting",
      "execution_count": 14,
      "outputs": []
    },
    {
      "cell_type": "code",
      "metadata": {
        "colab": {
          "base_uri": "https://localhost:8080/",
          "height": 285
        },
        "id": "PNXgBR01AEFE",
        "outputId": "fb8a3324-9263-415f-8e25-a14f803b670f"
      },
      "source": [
        "fig, ax = plt.subplots()\n",
        "print(cw_acc)\n",
        "b1 = ax.bar(classes,cw_acc,label = \"Accuracy\")\n",
        "# ax.bar_label(b1)\n",
        "plt.show()"
      ],
      "id": "PNXgBR01AEFE",
      "execution_count": 15,
      "outputs": [
        {
          "output_type": "stream",
          "text": [
            "[0.682 0.763 0.623 0.56  0.398 0.521 0.713 0.609 0.698 0.676]\n"
          ],
          "name": "stdout"
        },
        {
          "output_type": "display_data",
          "data": {
            "image/png": "[encoded data removed]",
            "text/plain": [
              "<Figure size 432x288 with 1 Axes>"
            ]
          },
          "metadata": {
            "tags": [],
            "image/png": {
              "width": 372,
              "height": 251
            },
            "needs_background": "light"
          }
        }
      ]
    },
    {
      "cell_type": "code",
      "metadata": {
        "id": "mdVf-2URCzh0",
        "colab": {
          "base_uri": "https://localhost:8080/",
          "height": 1000
        },
        "outputId": "e293514e-09ec-4b79-87da-48b5da1d77ff"
      },
      "source": [
        "# plt.subplots(10,1)\n",
        "l = cw_mats\n",
        "for i in range(10):\n",
        "    plt.matshow(l[i]/l[i].sum(1),cmap = plt.cm.Blues,fignum = 0)\n",
        "    plt.xticks(range(2),[classes[i],'not ' + classes[i]], rotation='vertical')\n",
        "    plt.yticks(range(2),[classes[i],'not ' + classes[i]])\n",
        "    plt.show()\n",
        "for i in range(10):\n",
        "    print(l[i]/l[1].sum(1))"
      ],
      "id": "mdVf-2URCzh0",
      "execution_count": 20,
      "outputs": [
        {
          "output_type": "display_data",
          "data": {
            "image/png": "[encoded data removed]",
            "text/plain": [
              "<Figure size 432x288 with 1 Axes>"
            ]
          },
          "metadata": {
            "tags": [],
            "image/png": {
              "width": 286,
              "height": 289
            },
            "needs_background": "light"
          }
        },
        {
          "output_type": "display_data",
          "data": {
            "image/png": "[encoded data removed]",
            "text/plain": [
              "<Figure size 432x288 with 1 Axes>"
            ]
          },
          "metadata": {
            "tags": [],
            "image/png": {
              "width": 274,
              "height": 277
            },
            "needs_background": "light"
          }
        },
        {
          "output_type": "display_data",
          "data": {
            "image/png": "[encoded data removed]",
            "text/plain": [
              "<Figure size 432x288 with 1 Axes>"
            ]
          },
          "metadata": {
            "tags": [],
            "image/png": {
              "width": 277,
              "height": 281
            },
            "needs_background": "light"
          }
        },
        {
          "output_type": "display_data",
          "data": {
            "image/png": "[encoded data removed]",
            "text/plain": [
              "<Figure size 432x288 with 1 Axes>"
            ]
          },
          "metadata": {
            "tags": [],
            "image/png": {
              "width": 274,
              "height": 277
            },
            "needs_background": "light"
          }
        },
        {
          "output_type": "display_data",
          "data": {
            "image/png": "[encoded data removed]",
            "text/plain": [
              "<Figure size 432x288 with 1 Axes>"
            ]
          },
          "metadata": {
            "tags": [],
            "image/png": {
              "width": 281,
              "height": 284
            },
            "needs_background": "light"
          }
        },
        {
          "output_type": "display_data",
          "data": {
            "image/png": "[encoded data removed]",
            "text/plain": [
              "<Figure size 432x288 with 1 Axes>"
            ]
          },
          "metadata": {
            "tags": [],
            "image/png": {
              "width": 277,
              "height": 280
            },
            "needs_background": "light"
          }
        },
        {
          "output_type": "display_data",
          "data": {
            "image/png": "[encoded data removed]",
            "text/plain": [
              "<Figure size 432x288 with 1 Axes>"
            ]
          },
          "metadata": {
            "tags": [],
            "image/png": {
              "width": 278,
              "height": 281
            },
            "needs_background": "light"
          }
        },
        {
          "output_type": "display_data",
          "data": {
            "image/png": "[encoded data removed]",
            "text/plain": [
              "<Figure size 432x288 with 1 Axes>"
            ]
          },
          "metadata": {
            "tags": [],
            "image/png": {
              "width": 286,
              "height": 290
            },
            "needs_background": "light"
          }
        },
        {
          "output_type": "display_data",
          "data": {
            "image/png": "[encoded data removed]",
            "text/plain": [
              "<Figure size 432x288 with 1 Axes>"
            ]
          },
          "metadata": {
            "tags": [],
            "image/png": {
              "width": 279,
              "height": 282
            },
            "needs_background": "light"
          }
        },
        {
          "output_type": "display_data",
          "data": {
            "image/png": "[encoded data removed]",
            "text/plain": [
              "<Figure size 432x288 with 1 Axes>"
            ]
          },
          "metadata": {
            "tags": [],
            "image/png": {
              "width": 284,
              "height": 287
            },
            "needs_background": "light"
          }
        },
        {
          "output_type": "stream",
          "text": [
            "[[0.682      0.03533333]\n",
            " [0.36       0.96      ]]\n",
            "[[0.763      0.02633333]\n",
            " [0.325      0.96388889]]\n",
            "[[0.623      0.04188889]\n",
            " [0.652      0.92755556]]\n",
            "[[0.56       0.04888889]\n",
            " [0.678      0.92466667]]\n",
            "[[0.398      0.06688889]\n",
            " [0.2        0.97777778]]\n",
            "[[0.521      0.05322222]\n",
            " [0.345      0.96166667]]\n",
            "[[0.713      0.03188889]\n",
            " [0.409      0.95455556]]\n",
            "[[0.609      0.04344444]\n",
            " [0.24       0.97333333]]\n",
            "[[0.698      0.03355556]\n",
            " [0.331      0.96322222]]\n",
            "[[0.676      0.036     ]\n",
            " [0.217      0.97588889]]\n"
          ],
          "name": "stdout"
        }
      ]
    },
    {
      "cell_type": "code",
      "metadata": {
        "id": "IegR6UhhyPXH"
      },
      "source": [
        ""
      ],
      "id": "IegR6UhhyPXH",
      "execution_count": null,
      "outputs": []
    }
  ]
}