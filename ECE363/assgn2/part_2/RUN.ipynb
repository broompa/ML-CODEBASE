{
 "cells": [
  {
   "cell_type": "code",
   "execution_count": 8,
   "id": "northern-constitutional",
   "metadata": {},
   "outputs": [],
   "source": [
    "import torch\n",
    "from torchvision import datasets, transforms\n",
    "from torch import nn, optim\n",
    "import torch.nn.functional as F\n",
    "import matplotlib.pyplot as plt\n",
    "import numpy as np"
   ]
  },
  {
   "cell_type": "code",
   "execution_count": 9,
   "id": "administrative-storm",
   "metadata": {
    "jupyter": {
     "outputs_hidden": true
    },
    "tags": []
   },
   "outputs": [],
   "source": [
    "transform = transforms.Compose([transforms.ToTensor(),\n",
    "                                 transforms.Normalize((0.5,),(0.5,))])\n",
    "trainset = datasets.FashionMNIST('F_MNIST_data/',download = True, train = True, transform = transform)\n",
    "testset  = datasets.FashionMNIST('F_MNIST_data/',download = True, train = False, transform = transform)\n",
    "trainloader = torch.utils.data.DataLoader(trainset, batch_size = 64, shuffle = True)\n",
    "testloader  = torch.utils.data.DataLoader(testset , batch_size = len(testset), shuffle = True)"
   ]
  },
  {
   "cell_type": "code",
   "execution_count": 10,
   "id": "unexpected-residence",
   "metadata": {},
   "outputs": [],
   "source": [
    "idx,img= next(enumerate(trainloader))"
   ]
  },
  {
   "cell_type": "code",
   "execution_count": 11,
   "id": "b50451c2-2287-450c-afff-81369b5d8e4f",
   "metadata": {},
   "outputs": [
    {
     "data": {
      "text/plain": [
       "torch.Size([64, 1, 28, 28])"
      ]
     },
     "execution_count": 11,
     "metadata": {},
     "output_type": "execute_result"
    }
   ],
   "source": [
    "img[0]"
   ]
  },
  {
   "cell_type": "code",
   "execution_count": 2,
   "id": "fifty-calibration",
   "metadata": {},
   "outputs": [],
   "source": [
    "class Net(nn.Module):\n",
    "    def __init__(self):\n",
    "        super().__init__()\n",
    "        self.conv = nn.Sequential(\n",
    "                        nn.Conv2d(in_channels = 1, out_channels = 8, kernel_size = 3, stride = 1, padding = 0 , dilation = 1),\n",
    "                        nn.ReLU(inplace = True),\n",
    "                        nn.MaxPool2d(kernel_size = 2),\n",
    "                        nn.Conv2d(in_channels = 8, out_channels = 16, kernel_size = 3, stride = 1, padding = 0 , dilation = 1),\n",
    "                        nn.ReLU(inplace = True),\n",
    "                        nn.MaxPool2d(kernel_size = 2)              \n",
    "        )\n",
    "        self.linear = nn.Sequential(\n",
    "                        nn.Linear(400,256),\n",
    "                        nn.Linear(256,64),\n",
    "                        nn.Linear(64,10)\n",
    "        )\n",
    "    def forward(self,x):\n",
    "        x = self.conv(x)\n",
    "        x = x.view(x.shape[0],-1)\n",
    "        print(x.shape)\n",
    "        return F.log_softmax(self.linear(x),dim = 1)\n",
    "\n",
    "def confusion_matrix(true, pred):\n",
    "    uniq = np.unique(true)\n",
    "    mat = np.zeros((len(uniq),len(uniq)))\n",
    "    for i in range(len(uniq)):\n",
    "        indicies = np.where(uniq[i] == true)\n",
    "        for j in range(len(uniq)):\n",
    "            mat[i,j] = len(np.where(pred[indicies] == uniq[j])[0])\n",
    "    return mat"
   ]
  },
  {
   "cell_type": "code",
   "execution_count": 5,
   "id": "hairy-married",
   "metadata": {},
   "outputs": [],
   "source": [
    "classes = ['T-shirt/top', 'Trouser', 'Pullover', 'Dress', 'Coat', 'Sandal', 'Shirt', 'Sneaker', 'Bag','Ankle boot']\n",
    "\n",
    "\n",
    "model = Net()\n",
    "criterion = nn.NLLLoss()\n",
    "optimizer = optim.Adam(model.parameters(), lr = 0.0002)\n",
    "epochs = 50\n",
    "train_loss = []\n",
    "test_loss  = []\n",
    "train_acc  = []\n",
    "test_acc   = []\n",
    "verbose_idx = 100\n",
    "train = 1"
   ]
  },
  {
   "cell_type": "code",
   "execution_count": 13,
   "id": "c475972f",
   "metadata": {},
   "outputs": [
    {
     "name": "stdout",
     "output_type": "stream",
     "text": [
      "torch.Size([64, 400])\n"
     ]
    }
   ],
   "source": [
    "out = model(img[0])"
   ]
  },
  {
   "cell_type": "code",
   "execution_count": null,
   "id": "5562b645",
   "metadata": {},
   "outputs": [],
   "source": [
    "model."
   ]
  },
  {
   "cell_type": "code",
   "execution_count": 7,
   "id": "parental-option",
   "metadata": {
    "scrolled": false
   },
   "outputs": [
    {
     "ename": "NameError",
     "evalue": "name 'trainloader' is not defined",
     "output_type": "error",
     "traceback": [
      "\u001b[0;31m---------------------------------------------------------------------------\u001b[0m",
      "\u001b[0;31mNameError\u001b[0m                                 Traceback (most recent call last)",
      "Input \u001b[0;32mIn [7]\u001b[0m, in \u001b[0;36m<cell line: 1>\u001b[0;34m()\u001b[0m\n\u001b[1;32m      2\u001b[0m \u001b[38;5;28;01mfor\u001b[39;00m e \u001b[38;5;129;01min\u001b[39;00m \u001b[38;5;28mrange\u001b[39m(epochs):\n\u001b[1;32m      3\u001b[0m     running_loss \u001b[38;5;241m=\u001b[39m \u001b[38;5;241m0\u001b[39m\n\u001b[0;32m----> 4\u001b[0m     \u001b[38;5;28;01mfor\u001b[39;00m idx, data \u001b[38;5;129;01min\u001b[39;00m \u001b[38;5;28menumerate\u001b[39m(trainloader):\n\u001b[1;32m      5\u001b[0m         log_ps \u001b[38;5;241m=\u001b[39m model(data[\u001b[38;5;241m0\u001b[39m])\n\u001b[1;32m      6\u001b[0m         loss \u001b[38;5;241m=\u001b[39m criterion(log_ps, data[\u001b[38;5;241m1\u001b[39m])\n",
      "\u001b[0;31mNameError\u001b[0m: name 'trainloader' is not defined"
     ]
    }
   ],
   "source": [
    "if train :\n",
    "    for e in range(epochs):\n",
    "        running_loss = 0\n",
    "        for idx, data in enumerate(trainloader):\n",
    "            log_ps = model(data[0])\n",
    "            loss = criterion(log_ps, data[1])\n",
    "            optimizer.zero_grad()\n",
    "            loss.backward()\n",
    "            optimizer.step()\n",
    "            running_loss += loss.item()\n",
    "            if (idx % verbose_idx == 0):\n",
    "                print(\"Epoch: {}, Idx: {}, Train loss: {}\".format(e, idx, loss.item()))        \n",
    "        train_loss.append(running_loss / len(trainloader))\n",
    "        running_loss = 0\n",
    "        acc = 0\n",
    "        with torch.no_grad():\n",
    "            for idx, data in enumerate(testloader):\n",
    "                log_ps = model(data[0])\n",
    "                loss = criterion(log_ps, data[1])\n",
    "                running_loss += loss.item()\n",
    "                var = torch.exp(log_ps).max(1)[1]\n",
    "                acc += var.eq(data[1].data.view_as(var)).sum()\n",
    "            test_loss.append(running_loss / len(testloader))\n",
    "        print(\"Epoch: {}, Train Loss: {}, Test Loss: {}, Acc: {}\".format(e,train_loss[-1],test_loss[-1],acc/len(testloader.dataset)))\n",
    "    params = {'state_dict': model.state_dict() , 'train_loss': train_loss,  'test_loss': test_loss}\n",
    "    torch.save(params, \"q2.pth\")\n",
    "else : \n",
    "    file_path = 'q2.pth'\n",
    "    params = torch.load(file_path)\n",
    "    model.load_state_dict(params['state_dict'])\n",
    "    train_loss = params['train_loss']\n",
    "    test_loss = params['test_loss']"
   ]
  },
  {
   "cell_type": "code",
   "execution_count": null,
   "id": "9a0ee739",
   "metadata": {},
   "outputs": [],
   "source": []
  },
  {
   "cell_type": "code",
   "execution_count": 7,
   "id": "altered-monthly",
   "metadata": {},
   "outputs": [
    {
     "data": {
      "image/png": "[encoded data removed]",
      "text/plain": [
       "<Figure size 432x288 with 1 Axes>"
      ]
     },
     "metadata": {
      "needs_background": "light"
     },
     "output_type": "display_data"
    }
   ],
   "source": [
    "epochs_list = np.array(list(range(epochs))) + 1\n",
    "plt.plot(epochs_list, train_loss,label = 'Train Set')\n",
    "plt.plot(epochs_list, test_loss, label = 'Test Set' )\n",
    "plt.legend()\n",
    "plt.show()"
   ]
  },
  {
   "cell_type": "code",
   "execution_count": 8,
   "id": "material-checkout",
   "metadata": {},
   "outputs": [
    {
     "name": "stdout",
     "output_type": "stream",
     "text": [
      "Test Accuracy: 0.8921999931335449\n"
     ]
    }
   ],
   "source": [
    "idx, data = next(enumerate(testloader))\n",
    "probs = model(data[0])\n",
    "pred = torch.exp(probs).data.max(1)[1]\n",
    "print(\"Test Accuracy: {}\".format(pred.eq(data[1].data.view_as(pred)).sum() / len(testloader.dataset)))\n",
    "mat = confusion_matrix(data[1].numpy(), pred.numpy())"
   ]
  },
  {
   "cell_type": "code",
   "execution_count": 9,
   "id": "raised-alias",
   "metadata": {},
   "outputs": [
    {
     "data": {
      "image/png": "[encoded data removed]",
      "text/plain": [
       "<Figure size 288x288 with 1 Axes>"
      ]
     },
     "metadata": {
      "needs_background": "light"
     },
     "output_type": "display_data"
    },
    {
     "name": "stdout",
     "output_type": "stream",
     "text": [
      "[[857.   1.  18.  29.   2.   1.  85.   0.   7.   0.]\n",
      " [  1. 969.   0.  24.   3.   0.   1.   0.   2.   0.]\n",
      " [ 17.   1. 838.  13.  61.   0.  66.   0.   4.   0.]\n",
      " [ 13.   2.  10. 916.  18.   0.  36.   0.   5.   0.]\n",
      " [  2.   4.  52.  34. 834.   1.  70.   0.   2.   1.]\n",
      " [  0.   0.   0.   0.   0. 975.   1.  19.   1.   4.]\n",
      " [139.   2.  69.  29. 101.   0. 642.   0.  18.   0.]\n",
      " [  0.   0.   0.   0.   0.  18.   0. 970.   0.  12.]\n",
      " [  2.   2.   4.   8.   2.   1.   6.   3. 972.   0.]\n",
      " [  0.   0.   0.   0.   0.   6.   1.  44.   0. 949.]]\n"
     ]
    }
   ],
   "source": [
    "plt.matshow(mat,cmap = plt.cm.Blues)\n",
    "plt.xticks(range(10),classes,rotation= 'vertical')\n",
    "plt.yticks(range(10),classes)\n",
    "plt.show()\n",
    "print(mat)"
   ]
  },
  {
   "cell_type": "code",
   "execution_count": null,
   "id": "boolean-chassis",
   "metadata": {},
   "outputs": [],
   "source": []
  },
  {
   "cell_type": "code",
   "execution_count": null,
   "id": "fundamental-recording",
   "metadata": {},
   "outputs": [],
   "source": []
  }
 ],
 "metadata": {
  "kernelspec": {
   "display_name": "Python 3 (ipykernel)",
   "language": "python",
   "name": "python3"
  },
  "language_info": {
   "codemirror_mode": {
    "name": "ipython",
    "version": 3
   },
   "file_extension": ".py",
   "mimetype": "text/x-python",
   "name": "python",
   "nbconvert_exporter": "python",
   "pygments_lexer": "ipython3",
   "version": "3.10.2"
  }
 },
 "nbformat": 4,
 "nbformat_minor": 5
}
