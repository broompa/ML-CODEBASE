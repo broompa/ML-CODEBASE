{
 "cells": [
  {
   "cell_type": "markdown",
   "metadata": {},
   "source": [
    "# ML assignment-2\n",
    "## Question-3\n",
    "### Importing the necessary modules"
   ]
  },
  {
   "cell_type": "code",
   "execution_count": 9,
   "metadata": {},
   "outputs": [],
   "source": [
    "import pandas as pd\n",
    "import numpy as np\n",
    "import matplotlib.pyplot as plt\n",
    "import nltk\n",
    "import string\n",
    "from sklearn.feature_extraction.text import TfidfVectorizer\n",
    "from sklearn.svm import SVC\n",
    "from sklearn.metrics import classification_report\n",
    "from sklearn.model_selection import GridSearchCV\n",
    "from sklearn.metrics import plot_confusion_matrix\n",
    "\n",
    "RANDOM_SEED = 100"
   ]
  },
  {
   "cell_type": "markdown",
   "metadata": {},
   "source": [
    "### Loading the given dataset"
   ]
  },
  {
   "cell_type": "code",
   "execution_count": 10,
   "metadata": {},
   "outputs": [],
   "source": [
    "data = pd.read_excel(\"Q3Dataset.xlsx\")"
   ]
  },
  {
   "cell_type": "code",
   "execution_count": 11,
   "metadata": {},
   "outputs": [],
   "source": [
    "text_df = data.iloc[:,0]\n",
    "y = data.iloc[:,1]"
   ]
  },
  {
   "cell_type": "markdown",
   "metadata": {},
   "source": [
    "### Data preprocessing"
   ]
  },
  {
   "cell_type": "code",
   "execution_count": 13,
   "metadata": {},
   "outputs": [],
   "source": [
    "corpus=[]\n",
    "\n",
    "#Iterating over lowered data\n",
    "for val in text_df.str.lower():\n",
    "    temp = nltk.word_tokenize(val)\n",
    "    \n",
    "    #Removing stopwords\n",
    "    for word in nltk.corpus.stopwords.words('english'):\n",
    "        if word in temp:\n",
    "            temp.remove(word)\n",
    "        \n",
    "    #Removing punctuation\n",
    "    for idx in range(len(temp)):\n",
    "        for val in string.punctuation:\n",
    "            temp[idx]=temp[idx].replace(val,'')\n",
    "        \n",
    "    corpus.append(' '.join(temp))"
   ]
  },
  {
   "cell_type": "markdown",
   "metadata": {},
   "source": [
    "### Splitting data into training and testing set"
   ]
  },
  {
   "cell_type": "code",
   "execution_count": 14,
   "metadata": {},
   "outputs": [],
   "source": [
    "from sklearn.model_selection import train_test_split\n",
    "corpus_train, corpus_test, y_train, y_test = train_test_split(corpus, y, test_size=0.20, random_state=RANDOM_SEED)"
   ]
  },
  {
   "cell_type": "markdown",
   "metadata": {},
   "source": [
    "### Performing TF-IDF word tokenization"
   ]
  },
  {
   "cell_type": "code",
   "execution_count": 15,
   "metadata": {},
   "outputs": [],
   "source": [
    "#Fitting vectorizer onto training set\n",
    "vectorizer = TfidfVectorizer()\n",
    "vectorizer_train = vectorizer.fit(corpus_train)\n",
    "\n",
    "X_train = vectorizer_train.transform(corpus_train)\n",
    "X_test = vectorizer_train.transform(corpus_test)"
   ]
  },
  {
   "cell_type": "markdown",
   "metadata": {},
   "source": [
    "### Training a SVM classifier"
   ]
  },
  {
   "cell_type": "code",
   "execution_count": 16,
   "metadata": {},
   "outputs": [
    {
     "output_type": "stream",
     "name": "stdout",
     "text": [
      "              precision    recall  f1-score   support\n\n           0       0.75      0.84      0.79        94\n           1       0.84      0.75      0.79       106\n\n    accuracy                           0.79       200\n   macro avg       0.79      0.79      0.79       200\nweighted avg       0.80      0.79      0.79       200\n\n"
     ]
    }
   ],
   "source": [
    "clf = SVC(kernel='rbf')\n",
    "clf.fit(X_train, y_train)\n",
    "\n",
    "#Initial results\n",
    "print(classification_report(y_test, clf.predict(X_test)))"
   ]
  },
  {
   "cell_type": "markdown",
   "metadata": {},
   "source": [
    "### Hyperparameter tuning"
   ]
  },
  {
   "cell_type": "code",
   "execution_count": 17,
   "metadata": {
    "tags": [
     "outputPrepend"
    ]
   },
   "outputs": [
    {
     "output_type": "stream",
     "name": "stdout",
     "text": [
      "...........\n",
      "[CV 3/3; 18/48] END C=1, gamma=scale, kernel=rbf; accuracy: (test=0.771) f1_micro: (test=0.771) roc_auc: (test=0.846) total time=   0.0s\n",
      "[CV 1/3; 19/48] START C=1, gamma=scale, kernel=poly.............................\n",
      "[CV 1/3; 19/48] END C=1, gamma=scale, kernel=poly; accuracy: (test=0.700) f1_micro: (test=0.700) roc_auc: (test=0.827) total time=   0.0s\n",
      "[CV 2/3; 19/48] START C=1, gamma=scale, kernel=poly.............................\n",
      "[CV 2/3; 19/48] END C=1, gamma=scale, kernel=poly; accuracy: (test=0.749) f1_micro: (test=0.749) roc_auc: (test=0.814) total time=   0.0s\n",
      "[CV 3/3; 19/48] START C=1, gamma=scale, kernel=poly.............................\n",
      "[CV 3/3; 19/48] END C=1, gamma=scale, kernel=poly; accuracy: (test=0.714) f1_micro: (test=0.714) roc_auc: (test=0.845) total time=   0.1s\n",
      "[CV 1/3; 20/48] START C=1, gamma=scale, kernel=sigmoid..........................\n",
      "[CV 1/3; 20/48] END C=1, gamma=scale, kernel=sigmoid; accuracy: (test=0.760) f1_micro: (test=0.760) roc_auc: (test=0.841) total time=   0.1s\n",
      "[CV 2/3; 20/48] START C=1, gamma=scale, kernel=sigmoid..........................\n",
      "[CV 2/3; 20/48] END C=1, gamma=scale, kernel=sigmoid; accuracy: (test=0.794) f1_micro: (test=0.794) roc_auc: (test=0.869) total time=   0.0s\n",
      "[CV 3/3; 20/48] START C=1, gamma=scale, kernel=sigmoid..........................\n",
      "[CV 3/3; 20/48] END C=1, gamma=scale, kernel=sigmoid; accuracy: (test=0.778) f1_micro: (test=0.778) roc_auc: (test=0.841) total time=   0.0s\n",
      "[CV 1/3; 21/48] START C=1, gamma=auto, kernel=linear............................\n",
      "[CV 1/3; 21/48] END C=1, gamma=auto, kernel=linear; accuracy: (test=0.768) f1_micro: (test=0.768) roc_auc: (test=0.843) total time=   0.0s\n",
      "[CV 2/3; 21/48] START C=1, gamma=auto, kernel=linear............................\n",
      "[CV 2/3; 21/48] END C=1, gamma=auto, kernel=linear; accuracy: (test=0.809) f1_micro: (test=0.809) roc_auc: (test=0.867) total time=   0.0s\n",
      "[CV 3/3; 21/48] START C=1, gamma=auto, kernel=linear............................\n",
      "[CV 3/3; 21/48] END C=1, gamma=auto, kernel=linear; accuracy: (test=0.786) f1_micro: (test=0.786) roc_auc: (test=0.843) total time=   0.0s\n",
      "[CV 1/3; 22/48] START C=1, gamma=auto, kernel=rbf...............................\n",
      "[CV 1/3; 22/48] END C=1, gamma=auto, kernel=rbf; accuracy: (test=0.506) f1_micro: (test=0.506) roc_auc: (test=0.829) total time=   0.1s\n",
      "[CV 2/3; 22/48] START C=1, gamma=auto, kernel=rbf...............................\n",
      "[CV 2/3; 22/48] END C=1, gamma=auto, kernel=rbf; accuracy: (test=0.509) f1_micro: (test=0.509) roc_auc: (test=0.854) total time=   0.0s\n",
      "[CV 3/3; 22/48] START C=1, gamma=auto, kernel=rbf...............................\n",
      "[CV 3/3; 22/48] END C=1, gamma=auto, kernel=rbf; accuracy: (test=0.508) f1_micro: (test=0.508) roc_auc: (test=0.834) total time=   0.0s\n",
      "[CV 1/3; 23/48] START C=1, gamma=auto, kernel=poly..............................\n",
      "[CV 1/3; 23/48] END C=1, gamma=auto, kernel=poly; accuracy: (test=0.506) f1_micro: (test=0.506) roc_auc: (test=0.831) total time=   0.0s\n",
      "[CV 2/3; 23/48] START C=1, gamma=auto, kernel=poly..............................\n",
      "[CV 2/3; 23/48] END C=1, gamma=auto, kernel=poly; accuracy: (test=0.509) f1_micro: (test=0.509) roc_auc: (test=0.819) total time=   0.0s\n",
      "[CV 3/3; 23/48] START C=1, gamma=auto, kernel=poly..............................\n",
      "[CV 3/3; 23/48] END C=1, gamma=auto, kernel=poly; accuracy: (test=0.508) f1_micro: (test=0.508) roc_auc: (test=0.844) total time=   0.1s\n",
      "[CV 1/3; 24/48] START C=1, gamma=auto, kernel=sigmoid...........................\n",
      "[CV 1/3; 24/48] END C=1, gamma=auto, kernel=sigmoid; accuracy: (test=0.506) f1_micro: (test=0.506) roc_auc: (test=0.829) total time=   0.1s\n",
      "[CV 2/3; 24/48] START C=1, gamma=auto, kernel=sigmoid...........................\n",
      "[CV 2/3; 24/48] END C=1, gamma=auto, kernel=sigmoid; accuracy: (test=0.509) f1_micro: (test=0.509) roc_auc: (test=0.854) total time=   0.1s\n",
      "[CV 3/3; 24/48] START C=1, gamma=auto, kernel=sigmoid...........................\n",
      "[CV 3/3; 24/48] END C=1, gamma=auto, kernel=sigmoid; accuracy: (test=0.508) f1_micro: (test=0.508) roc_auc: (test=0.835) total time=   0.0s\n",
      "[CV 1/3; 25/48] START C=10, gamma=scale, kernel=linear..........................\n",
      "[CV 1/3; 25/48] END C=10, gamma=scale, kernel=linear; accuracy: (test=0.745) f1_micro: (test=0.745) roc_auc: (test=0.825) total time=   0.0s\n",
      "[CV 2/3; 25/48] START C=10, gamma=scale, kernel=linear..........................\n",
      "[CV 2/3; 25/48] END C=10, gamma=scale, kernel=linear; accuracy: (test=0.805) f1_micro: (test=0.805) roc_auc: (test=0.851) total time=   0.1s\n",
      "[CV 3/3; 25/48] START C=10, gamma=scale, kernel=linear..........................\n",
      "[CV 3/3; 25/48] END C=10, gamma=scale, kernel=linear; accuracy: (test=0.748) f1_micro: (test=0.748) roc_auc: (test=0.822) total time=   0.0s\n",
      "[CV 1/3; 26/48] START C=10, gamma=scale, kernel=rbf.............................\n",
      "[CV 1/3; 26/48] END C=10, gamma=scale, kernel=rbf; accuracy: (test=0.775) f1_micro: (test=0.775) roc_auc: (test=0.842) total time=   0.0s\n",
      "[CV 2/3; 26/48] START C=10, gamma=scale, kernel=rbf.............................\n",
      "[CV 2/3; 26/48] END C=10, gamma=scale, kernel=rbf; accuracy: (test=0.820) f1_micro: (test=0.820) roc_auc: (test=0.868) total time=   0.0s\n",
      "[CV 3/3; 26/48] START C=10, gamma=scale, kernel=rbf.............................\n",
      "[CV 3/3; 26/48] END C=10, gamma=scale, kernel=rbf; accuracy: (test=0.805) f1_micro: (test=0.805) roc_auc: (test=0.846) total time=   0.1s\n",
      "[CV 1/3; 27/48] START C=10, gamma=scale, kernel=poly............................\n",
      "[CV 1/3; 27/48] END C=10, gamma=scale, kernel=poly; accuracy: (test=0.734) f1_micro: (test=0.734) roc_auc: (test=0.828) total time=   0.0s\n",
      "[CV 2/3; 27/48] START C=10, gamma=scale, kernel=poly............................\n",
      "[CV 2/3; 27/48] END C=10, gamma=scale, kernel=poly; accuracy: (test=0.749) f1_micro: (test=0.749) roc_auc: (test=0.814) total time=   0.0s\n",
      "[CV 3/3; 27/48] START C=10, gamma=scale, kernel=poly............................\n",
      "[CV 3/3; 27/48] END C=10, gamma=scale, kernel=poly; accuracy: (test=0.752) f1_micro: (test=0.752) roc_auc: (test=0.844) total time=   0.0s\n",
      "[CV 1/3; 28/48] START C=10, gamma=scale, kernel=sigmoid.........................\n",
      "[CV 1/3; 28/48] END C=10, gamma=scale, kernel=sigmoid; accuracy: (test=0.738) f1_micro: (test=0.738) roc_auc: (test=0.806) total time=   0.0s\n",
      "[CV 2/3; 28/48] START C=10, gamma=scale, kernel=sigmoid.........................\n",
      "[CV 2/3; 28/48] END C=10, gamma=scale, kernel=sigmoid; accuracy: (test=0.779) f1_micro: (test=0.779) roc_auc: (test=0.828) total time=   0.1s\n",
      "[CV 3/3; 28/48] START C=10, gamma=scale, kernel=sigmoid.........................\n",
      "[CV 3/3; 28/48] END C=10, gamma=scale, kernel=sigmoid; accuracy: (test=0.744) f1_micro: (test=0.744) roc_auc: (test=0.801) total time=   0.0s\n",
      "[CV 1/3; 29/48] START C=10, gamma=auto, kernel=linear...........................\n",
      "[CV 1/3; 29/48] END C=10, gamma=auto, kernel=linear; accuracy: (test=0.745) f1_micro: (test=0.745) roc_auc: (test=0.825) total time=   0.0s\n",
      "[CV 2/3; 29/48] START C=10, gamma=auto, kernel=linear...........................\n",
      "[CV 2/3; 29/48] END C=10, gamma=auto, kernel=linear; accuracy: (test=0.805) f1_micro: (test=0.805) roc_auc: (test=0.851) total time=   0.0s\n",
      "[CV 3/3; 29/48] START C=10, gamma=auto, kernel=linear...........................\n",
      "[CV 3/3; 29/48] END C=10, gamma=auto, kernel=linear; accuracy: (test=0.748) f1_micro: (test=0.748) roc_auc: (test=0.822) total time=   0.0s\n",
      "[CV 1/3; 30/48] START C=10, gamma=auto, kernel=rbf..............................\n",
      "[CV 1/3; 30/48] END C=10, gamma=auto, kernel=rbf; accuracy: (test=0.506) f1_micro: (test=0.506) roc_auc: (test=0.830) total time=   0.0s\n",
      "[CV 2/3; 30/48] START C=10, gamma=auto, kernel=rbf..............................\n",
      "[CV 2/3; 30/48] END C=10, gamma=auto, kernel=rbf; accuracy: (test=0.509) f1_micro: (test=0.509) roc_auc: (test=0.853) total time=   0.1s\n",
      "[CV 3/3; 30/48] START C=10, gamma=auto, kernel=rbf..............................\n",
      "[CV 3/3; 30/48] END C=10, gamma=auto, kernel=rbf; accuracy: (test=0.508) f1_micro: (test=0.508) roc_auc: (test=0.834) total time=   0.0s\n",
      "[CV 1/3; 31/48] START C=10, gamma=auto, kernel=poly.............................\n",
      "[CV 1/3; 31/48] END C=10, gamma=auto, kernel=poly; accuracy: (test=0.506) f1_micro: (test=0.506) roc_auc: (test=0.831) total time=   0.0s\n",
      "[CV 2/3; 31/48] START C=10, gamma=auto, kernel=poly.............................\n",
      "[CV 2/3; 31/48] END C=10, gamma=auto, kernel=poly; accuracy: (test=0.509) f1_micro: (test=0.509) roc_auc: (test=0.819) total time=   0.0s\n",
      "[CV 3/3; 31/48] START C=10, gamma=auto, kernel=poly.............................\n",
      "[CV 3/3; 31/48] END C=10, gamma=auto, kernel=poly; accuracy: (test=0.508) f1_micro: (test=0.508) roc_auc: (test=0.844) total time=   0.0s\n",
      "[CV 1/3; 32/48] START C=10, gamma=auto, kernel=sigmoid..........................\n",
      "[CV 1/3; 32/48] END C=10, gamma=auto, kernel=sigmoid; accuracy: (test=0.506) f1_micro: (test=0.506) roc_auc: (test=0.830) total time=   0.0s\n",
      "[CV 2/3; 32/48] START C=10, gamma=auto, kernel=sigmoid..........................\n",
      "[CV 2/3; 32/48] END C=10, gamma=auto, kernel=sigmoid; accuracy: (test=0.509) f1_micro: (test=0.509) roc_auc: (test=0.853) total time=   0.0s\n",
      "[CV 3/3; 32/48] START C=10, gamma=auto, kernel=sigmoid..........................\n",
      "[CV 3/3; 32/48] END C=10, gamma=auto, kernel=sigmoid; accuracy: (test=0.508) f1_micro: (test=0.508) roc_auc: (test=0.834) total time=   0.0s\n",
      "[CV 1/3; 33/48] START C=50, gamma=scale, kernel=linear..........................\n",
      "[CV 1/3; 33/48] END C=50, gamma=scale, kernel=linear; accuracy: (test=0.730) f1_micro: (test=0.730) roc_auc: (test=0.826) total time=   0.0s\n",
      "[CV 2/3; 33/48] START C=50, gamma=scale, kernel=linear..........................\n",
      "[CV 2/3; 33/48] END C=50, gamma=scale, kernel=linear; accuracy: (test=0.805) f1_micro: (test=0.805) roc_auc: (test=0.851) total time=   0.0s\n",
      "[CV 3/3; 33/48] START C=50, gamma=scale, kernel=linear..........................\n",
      "[CV 3/3; 33/48] END C=50, gamma=scale, kernel=linear; accuracy: (test=0.756) f1_micro: (test=0.756) roc_auc: (test=0.822) total time=   0.0s\n",
      "[CV 1/3; 34/48] START C=50, gamma=scale, kernel=rbf.............................\n",
      "[CV 1/3; 34/48] END C=50, gamma=scale, kernel=rbf; accuracy: (test=0.775) f1_micro: (test=0.775) roc_auc: (test=0.842) total time=   0.0s\n",
      "[CV 2/3; 34/48] START C=50, gamma=scale, kernel=rbf.............................\n",
      "[CV 2/3; 34/48] END C=50, gamma=scale, kernel=rbf; accuracy: (test=0.820) f1_micro: (test=0.820) roc_auc: (test=0.868) total time=   0.0s\n",
      "[CV 3/3; 34/48] START C=50, gamma=scale, kernel=rbf.............................\n",
      "[CV 3/3; 34/48] END C=50, gamma=scale, kernel=rbf; accuracy: (test=0.805) f1_micro: (test=0.805) roc_auc: (test=0.846) total time=   0.0s\n",
      "[CV 1/3; 35/48] START C=50, gamma=scale, kernel=poly............................\n",
      "[CV 1/3; 35/48] END C=50, gamma=scale, kernel=poly; accuracy: (test=0.734) f1_micro: (test=0.734) roc_auc: (test=0.828) total time=   0.1s\n",
      "[CV 2/3; 35/48] START C=50, gamma=scale, kernel=poly............................\n",
      "[CV 2/3; 35/48] END C=50, gamma=scale, kernel=poly; accuracy: (test=0.749) f1_micro: (test=0.749) roc_auc: (test=0.814) total time=   0.1s\n",
      "[CV 3/3; 35/48] START C=50, gamma=scale, kernel=poly............................\n",
      "[CV 3/3; 35/48] END C=50, gamma=scale, kernel=poly; accuracy: (test=0.752) f1_micro: (test=0.752) roc_auc: (test=0.844) total time=   0.0s\n",
      "[CV 1/3; 36/48] START C=50, gamma=scale, kernel=sigmoid.........................\n",
      "[CV 1/3; 36/48] END C=50, gamma=scale, kernel=sigmoid; accuracy: (test=0.697) f1_micro: (test=0.697) roc_auc: (test=0.754) total time=   0.0s\n",
      "[CV 2/3; 36/48] START C=50, gamma=scale, kernel=sigmoid.........................\n",
      "[CV 2/3; 36/48] END C=50, gamma=scale, kernel=sigmoid; accuracy: (test=0.760) f1_micro: (test=0.760) roc_auc: (test=0.792) total time=   0.0s\n",
      "[CV 3/3; 36/48] START C=50, gamma=scale, kernel=sigmoid.........................\n",
      "[CV 3/3; 36/48] END C=50, gamma=scale, kernel=sigmoid; accuracy: (test=0.711) f1_micro: (test=0.711) roc_auc: (test=0.739) total time=   0.1s\n",
      "[CV 1/3; 37/48] START C=50, gamma=auto, kernel=linear...........................\n",
      "[CV 1/3; 37/48] END C=50, gamma=auto, kernel=linear; accuracy: (test=0.730) f1_micro: (test=0.730) roc_auc: (test=0.826) total time=   0.0s\n",
      "[CV 2/3; 37/48] START C=50, gamma=auto, kernel=linear...........................\n",
      "[CV 2/3; 37/48] END C=50, gamma=auto, kernel=linear; accuracy: (test=0.805) f1_micro: (test=0.805) roc_auc: (test=0.851) total time=   0.0s\n",
      "[CV 3/3; 37/48] START C=50, gamma=auto, kernel=linear...........................\n",
      "[CV 3/3; 37/48] END C=50, gamma=auto, kernel=linear; accuracy: (test=0.756) f1_micro: (test=0.756) roc_auc: (test=0.822) total time=   0.0s\n",
      "[CV 1/3; 38/48] START C=50, gamma=auto, kernel=rbf..............................\n",
      "[CV 1/3; 38/48] END C=50, gamma=auto, kernel=rbf; accuracy: (test=0.506) f1_micro: (test=0.506) roc_auc: (test=0.830) total time=   0.0s\n",
      "[CV 2/3; 38/48] START C=50, gamma=auto, kernel=rbf..............................\n",
      "[CV 2/3; 38/48] END C=50, gamma=auto, kernel=rbf; accuracy: (test=0.509) f1_micro: (test=0.509) roc_auc: (test=0.853) total time=   0.0s\n",
      "[CV 3/3; 38/48] START C=50, gamma=auto, kernel=rbf..............................\n",
      "[CV 3/3; 38/48] END C=50, gamma=auto, kernel=rbf; accuracy: (test=0.508) f1_micro: (test=0.508) roc_auc: (test=0.834) total time=   0.1s\n",
      "[CV 1/3; 39/48] START C=50, gamma=auto, kernel=poly.............................\n",
      "[CV 1/3; 39/48] END C=50, gamma=auto, kernel=poly; accuracy: (test=0.506) f1_micro: (test=0.506) roc_auc: (test=0.831) total time=   0.0s\n",
      "[CV 2/3; 39/48] START C=50, gamma=auto, kernel=poly.............................\n",
      "[CV 2/3; 39/48] END C=50, gamma=auto, kernel=poly; accuracy: (test=0.509) f1_micro: (test=0.509) roc_auc: (test=0.819) total time=   0.0s\n",
      "[CV 3/3; 39/48] START C=50, gamma=auto, kernel=poly.............................\n",
      "[CV 3/3; 39/48] END C=50, gamma=auto, kernel=poly; accuracy: (test=0.508) f1_micro: (test=0.508) roc_auc: (test=0.844) total time=   0.0s\n",
      "[CV 1/3; 40/48] START C=50, gamma=auto, kernel=sigmoid..........................\n",
      "[CV 1/3; 40/48] END C=50, gamma=auto, kernel=sigmoid; accuracy: (test=0.506) f1_micro: (test=0.506) roc_auc: (test=0.830) total time=   0.0s\n",
      "[CV 2/3; 40/48] START C=50, gamma=auto, kernel=sigmoid..........................\n",
      "[CV 2/3; 40/48] END C=50, gamma=auto, kernel=sigmoid; accuracy: (test=0.509) f1_micro: (test=0.509) roc_auc: (test=0.853) total time=   0.0s\n",
      "[CV 3/3; 40/48] START C=50, gamma=auto, kernel=sigmoid..........................\n",
      "[CV 3/3; 40/48] END C=50, gamma=auto, kernel=sigmoid; accuracy: (test=0.508) f1_micro: (test=0.508) roc_auc: (test=0.834) total time=   0.0s\n",
      "[CV 1/3; 41/48] START C=100, gamma=scale, kernel=linear.........................\n",
      "[CV 1/3; 41/48] END C=100, gamma=scale, kernel=linear; accuracy: (test=0.727) f1_micro: (test=0.727) roc_auc: (test=0.825) total time=   0.0s\n",
      "[CV 2/3; 41/48] START C=100, gamma=scale, kernel=linear.........................\n",
      "[CV 2/3; 41/48] END C=100, gamma=scale, kernel=linear; accuracy: (test=0.805) f1_micro: (test=0.805) roc_auc: (test=0.851) total time=   0.0s\n",
      "[CV 3/3; 41/48] START C=100, gamma=scale, kernel=linear.........................\n",
      "[CV 3/3; 41/48] END C=100, gamma=scale, kernel=linear; accuracy: (test=0.756) f1_micro: (test=0.756) roc_auc: (test=0.823) total time=   0.0s\n",
      "[CV 1/3; 42/48] START C=100, gamma=scale, kernel=rbf............................\n",
      "[CV 1/3; 42/48] END C=100, gamma=scale, kernel=rbf; accuracy: (test=0.775) f1_micro: (test=0.775) roc_auc: (test=0.842) total time=   0.1s\n",
      "[CV 2/3; 42/48] START C=100, gamma=scale, kernel=rbf............................\n",
      "[CV 2/3; 42/48] END C=100, gamma=scale, kernel=rbf; accuracy: (test=0.820) f1_micro: (test=0.820) roc_auc: (test=0.868) total time=   0.1s\n",
      "[CV 3/3; 42/48] START C=100, gamma=scale, kernel=rbf............................\n",
      "[CV 3/3; 42/48] END C=100, gamma=scale, kernel=rbf; accuracy: (test=0.805) f1_micro: (test=0.805) roc_auc: (test=0.846) total time=   0.0s\n",
      "[CV 1/3; 43/48] START C=100, gamma=scale, kernel=poly...........................\n",
      "[CV 1/3; 43/48] END C=100, gamma=scale, kernel=poly; accuracy: (test=0.734) f1_micro: (test=0.734) roc_auc: (test=0.828) total time=   0.0s\n",
      "[CV 2/3; 43/48] START C=100, gamma=scale, kernel=poly...........................\n",
      "[CV 2/3; 43/48] END C=100, gamma=scale, kernel=poly; accuracy: (test=0.749) f1_micro: (test=0.749) roc_auc: (test=0.814) total time=   0.1s\n",
      "[CV 3/3; 43/48] START C=100, gamma=scale, kernel=poly...........................\n",
      "[CV 3/3; 43/48] END C=100, gamma=scale, kernel=poly; accuracy: (test=0.752) f1_micro: (test=0.752) roc_auc: (test=0.844) total time=   0.0s\n",
      "[CV 1/3; 44/48] START C=100, gamma=scale, kernel=sigmoid........................\n",
      "[CV 1/3; 44/48] END C=100, gamma=scale, kernel=sigmoid; accuracy: (test=0.655) f1_micro: (test=0.655) roc_auc: (test=0.721) total time=   0.0s\n",
      "[CV 2/3; 44/48] START C=100, gamma=scale, kernel=sigmoid........................\n",
      "[CV 2/3; 44/48] END C=100, gamma=scale, kernel=sigmoid; accuracy: (test=0.715) f1_micro: (test=0.715) roc_auc: (test=0.764) total time=   0.0s\n",
      "[CV 3/3; 44/48] START C=100, gamma=scale, kernel=sigmoid........................\n",
      "[CV 3/3; 44/48] END C=100, gamma=scale, kernel=sigmoid; accuracy: (test=0.692) f1_micro: (test=0.692) roc_auc: (test=0.716) total time=   0.0s\n",
      "[CV 1/3; 45/48] START C=100, gamma=auto, kernel=linear..........................\n",
      "[CV 1/3; 45/48] END C=100, gamma=auto, kernel=linear; accuracy: (test=0.727) f1_micro: (test=0.727) roc_auc: (test=0.825) total time=   0.0s\n",
      "[CV 2/3; 45/48] START C=100, gamma=auto, kernel=linear..........................\n",
      "[CV 2/3; 45/48] END C=100, gamma=auto, kernel=linear; accuracy: (test=0.805) f1_micro: (test=0.805) roc_auc: (test=0.851) total time=   0.0s\n",
      "[CV 3/3; 45/48] START C=100, gamma=auto, kernel=linear..........................\n",
      "[CV 3/3; 45/48] END C=100, gamma=auto, kernel=linear; accuracy: (test=0.756) f1_micro: (test=0.756) roc_auc: (test=0.823) total time=   0.0s\n",
      "[CV 1/3; 46/48] START C=100, gamma=auto, kernel=rbf.............................\n",
      "[CV 1/3; 46/48] END C=100, gamma=auto, kernel=rbf; accuracy: (test=0.543) f1_micro: (test=0.543) roc_auc: (test=0.830) total time=   0.0s\n",
      "[CV 2/3; 46/48] START C=100, gamma=auto, kernel=rbf.............................\n",
      "[CV 2/3; 46/48] END C=100, gamma=auto, kernel=rbf; accuracy: (test=0.543) f1_micro: (test=0.543) roc_auc: (test=0.853) total time=   0.1s\n",
      "[CV 3/3; 46/48] START C=100, gamma=auto, kernel=rbf.............................\n",
      "[CV 3/3; 46/48] END C=100, gamma=auto, kernel=rbf; accuracy: (test=0.534) f1_micro: (test=0.534) roc_auc: (test=0.835) total time=   0.0s\n",
      "[CV 1/3; 47/48] START C=100, gamma=auto, kernel=poly............................\n",
      "[CV 1/3; 47/48] END C=100, gamma=auto, kernel=poly; accuracy: (test=0.506) f1_micro: (test=0.506) roc_auc: (test=0.831) total time=   0.0s\n",
      "[CV 2/3; 47/48] START C=100, gamma=auto, kernel=poly............................\n",
      "[CV 2/3; 47/48] END C=100, gamma=auto, kernel=poly; accuracy: (test=0.509) f1_micro: (test=0.509) roc_auc: (test=0.819) total time=   0.0s\n",
      "[CV 3/3; 47/48] START C=100, gamma=auto, kernel=poly............................\n",
      "[CV 3/3; 47/48] END C=100, gamma=auto, kernel=poly; accuracy: (test=0.508) f1_micro: (test=0.508) roc_auc: (test=0.844) total time=   0.0s\n",
      "[CV 1/3; 48/48] START C=100, gamma=auto, kernel=sigmoid.........................\n",
      "[CV 1/3; 48/48] END C=100, gamma=auto, kernel=sigmoid; accuracy: (test=0.506) f1_micro: (test=0.506) roc_auc: (test=0.830) total time=   0.1s\n",
      "[CV 2/3; 48/48] START C=100, gamma=auto, kernel=sigmoid.........................\n",
      "[CV 2/3; 48/48] END C=100, gamma=auto, kernel=sigmoid; accuracy: (test=0.509) f1_micro: (test=0.509) roc_auc: (test=0.853) total time=   0.1s\n",
      "[CV 3/3; 48/48] START C=100, gamma=auto, kernel=sigmoid.........................\n",
      "[CV 3/3; 48/48] END C=100, gamma=auto, kernel=sigmoid; accuracy: (test=0.508) f1_micro: (test=0.508) roc_auc: (test=0.834) total time=   0.0s\n"
     ]
    },
    {
     "output_type": "execute_result",
     "data": {
      "text/plain": [
       "GridSearchCV(cv=3, estimator=SVC(),\n",
       "             param_grid={'C': [0.01, 0.5, 1, 10, 50, 100],\n",
       "                         'gamma': ('scale', 'auto'),\n",
       "                         'kernel': ('linear', 'rbf', 'poly', 'sigmoid')},\n",
       "             refit='f1_micro', scoring=['f1_micro', 'roc_auc', 'accuracy'],\n",
       "             verbose=100)"
      ]
     },
     "metadata": {},
     "execution_count": 17
    }
   ],
   "source": [
    "parameters = {'kernel':('linear', 'rbf', 'poly', 'sigmoid'), 'C':[0.01, 0.5, 1, 10, 50,100], 'gamma':('scale', 'auto')}\n",
    "scoring = ['f1_micro', 'roc_auc', 'accuracy']\n",
    "cv = 3\n",
    "\n",
    "clf_cv = GridSearchCV(SVC(), param_grid=parameters,cv=cv,scoring=scoring,verbose=RANDOM_SEED,refit='f1_micro')\n",
    "clf_cv.fit(X_train, y_train)"
   ]
  },
  {
   "cell_type": "markdown",
   "metadata": {},
   "source": [
    "### Results for best parameters"
   ]
  },
  {
   "cell_type": "code",
   "execution_count": 15,
   "metadata": {},
   "outputs": [
    {
     "name": "stdout",
     "output_type": "stream",
     "text": [
      "{'C': 10, 'gamma': 'scale', 'kernel': 'rbf'} 0.8000056320576722\n",
      "SVC(C=10)\n"
     ]
    }
   ],
   "source": [
    "print(clf_cv.best_params_, clf_cv.best_score_)\n",
    "print(clf_cv.best_estimator_)"
   ]
  },
  {
   "cell_type": "code",
   "execution_count": 18,
   "metadata": {},
   "outputs": [
    {
     "output_type": "stream",
     "name": "stdout",
     "text": [
      "              precision    recall  f1-score   support\n\n           0       0.77      0.83      0.80        94\n           1       0.84      0.78      0.81       106\n\n    accuracy                           0.81       200\n   macro avg       0.81      0.81      0.80       200\nweighted avg       0.81      0.81      0.81       200\n\n"
     ]
    }
   ],
   "source": [
    "clf_final = clf_cv.best_estimator_\n",
    "clf_final.fit(X_train, y_train)\n",
    "y_test_pred = clf_final.predict(X_test)\n",
    "print(classification_report(y_test, y_test_pred))"
   ]
  },
  {
   "cell_type": "code",
   "execution_count": 19,
   "metadata": {},
   "outputs": [
    {
     "output_type": "execute_result",
     "data": {
      "text/plain": [
       "<sklearn.metrics._plot.confusion_matrix.ConfusionMatrixDisplay at 0x7f01436bd430>"
      ]
     },
     "metadata": {},
     "execution_count": 19
    },
    {
     "output_type": "display_data",
     "data": {
      "text/plain": "<Figure size 432x288 with 2 Axes>",
      "image/svg+xml": "<?xml version=\"1.0\" encoding=\"utf-8\" standalone=\"no\"?>\n<!DOCTYPE svg PUBLIC \"-//W3C//DTD SVG 1.1//EN\"\n  \"http://www.w3.org/Graphics/SVG/1.1/DTD/svg11.dtd\">\n<!-- Created with matplotlib (https://matplotlib.org/) -->\n<svg height=\"262.19625pt\" version=\"1.1\" viewBox=\"0 0 309.39575 262.19625\" width=\"309.39575pt\" xmlns=\"http://www.w3.org/2000/svg\" xmlns:xlink=\"http://www.w3.org/1999/xlink\">\n <metadata>\n  <rdf:RDF xmlns:cc=\"http://creativecommons.org/ns#\" xmlns:dc=\"http://purl.org/dc/elements/1.1/\" xmlns:rdf=\"http://www.w3.org/1999/02/22-rdf-syntax-ns#\">\n   <cc:Work>\n    <dc:type rdf:resource=\"http://purl.org/dc/dcmitype/StillImage\"/>\n    <dc:date>2021-04-25T17:11:43.153547</dc:date>\n    <dc:format>image/svg+xml</dc:format>\n    <dc:creator>\n     <cc:Agent>\n      <dc:title>Matplotlib v3.3.2, https://matplotlib.org/</dc:title>\n     </cc:Agent>\n    </dc:creator>\n   </cc:Work>\n  </rdf:RDF>\n </metadata>\n <defs>\n  <style type=\"text/css\">*{stroke-linecap:butt;stroke-linejoin:round;}</style>\n </defs>\n <g id=\"figure_1\">\n  <g id=\"patch_1\">\n   <path d=\"M 0 262.19625 \nL 309.39575 262.19625 \nL 309.39575 0 \nL 0 0 \nz\n\" style=\"fill:none;\"/>\n  </g>\n  <g id=\"axes_1\">\n   <g id=\"patch_2\">\n    <path d=\"M 34.240625 224.64 \nL 251.680625 224.64 \nL 251.680625 7.2 \nL 34.240625 7.2 \nz\n\" style=\"fill:#ffffff;\"/>\n   </g>\n   <g clip-path=\"url(#p1c3eeeabcc)\">\n    <image height=\"218\" id=\"image1a6a8e8eca\" transform=\"scale(1 -1)translate(0 -218)\" width=\"218\" x=\"34.240625\" xlink:href=\"data:image/png;base64,\niVBORw0KGgoAAAANSUhEUgAAANoAAADaCAYAAADAHVzbAAACm0lEQVR4nO3VMRHCUAAFQUKFDCRgBR2xQhlXGKFjaGkSDb+5Pwy7Cl5z85bX57uf+CnX+2P2BAadZw+AfyA0CAgNAkKDgNAgIDQICA0CQoOA0CAgNAgIDQJCg4DQICA0CAgNAkKDgNAgIDQICA0CQoOA0CAgNAgIDQJCg4DQICA0CAgNAkKDgNAgIDQICA0CQoOA0CAgNAgIDQJCg4DQICA0CAgNAkKDgNAgIDQICA0CQoOA0CAgNAgIDQJCg4DQICA0CAgNAkKDgNAgIDQICA0CQoOA0CAgNAgIDQJCg4DQICA0CAgNAkKDgNAgIDQICA0CQoOA0CAgNAgIDQJCg4DQICA0CAgNAkKDgNAgIDQICA0CQoOA0CAgNAgIDQJCg4DQICA0CAgNAkKDgNAgIDQICA0CQoOA0CAgNAgIDQJCg4DQICA0CAgNAkKDgNAgIDQICA0CQoOA0CAgNAgIDQJCg8Byua377BGMeT+32RMY5NEgIDQICA0CQoOA0CAgNAgIDQJCg4DQICA0CAgNAkKDgNAgIDQICA0CQoOA0CAgNAgIDQJCg4DQICA0CAgNAkKDgNAgIDQICA0CQoOA0CAgNAgIDQJCg4DQICA0CAgNAkKDgNAgIDQICA0CQoOA0CAgNAgIDQJCg4DQICA0CAgNAkKDgNAgIDQICA0CQoOA0CAgNAgIDQJCg4DQICA0CAgNAkKDgNAgIDQICA0CQoOA0CAgNAgIDQJCg4DQICA0CAgNAkKDgNAgIDQICA0CQoOA0CAgNAgIDQJCg4DQICA0CAgNAkKDgNAgIDQICA0CQoOA0CAgNAgIDQJCg4DQICA0CAgNAkKDgNAgIDQICA0CQoOA0CAgNAgIDQJCg4DQICA0CAgNAkKDwAF9vwpyMp0MsgAAAABJRU5ErkJggg==\" y=\"-6.64\"/>\n   </g>\n   <g id=\"matplotlib.axis_1\">\n    <g id=\"xtick_1\">\n     <g id=\"line2d_1\">\n      <defs>\n       <path d=\"M 0 0 \nL 0 3.5 \n\" id=\"mb05a4e10ae\" style=\"stroke:#000000;stroke-width:0.8;\"/>\n      </defs>\n      <g>\n       <use style=\"stroke:#000000;stroke-width:0.8;\" x=\"88.600625\" xlink:href=\"#mb05a4e10ae\" y=\"224.64\"/>\n      </g>\n     </g>\n     <g id=\"text_1\">\n      <!-- 0 -->\n      <g transform=\"translate(85.419375 239.238438)scale(0.1 -0.1)\">\n       <defs>\n        <path d=\"M 31.78125 66.40625 \nQ 24.171875 66.40625 20.328125 58.90625 \nQ 16.5 51.421875 16.5 36.375 \nQ 16.5 21.390625 20.328125 13.890625 \nQ 24.171875 6.390625 31.78125 6.390625 \nQ 39.453125 6.390625 43.28125 13.890625 \nQ 47.125 21.390625 47.125 36.375 \nQ 47.125 51.421875 43.28125 58.90625 \nQ 39.453125 66.40625 31.78125 66.40625 \nz\nM 31.78125 74.21875 \nQ 44.046875 74.21875 50.515625 64.515625 \nQ 56.984375 54.828125 56.984375 36.375 \nQ 56.984375 17.96875 50.515625 8.265625 \nQ 44.046875 -1.421875 31.78125 -1.421875 \nQ 19.53125 -1.421875 13.0625 8.265625 \nQ 6.59375 17.96875 6.59375 36.375 \nQ 6.59375 54.828125 13.0625 64.515625 \nQ 19.53125 74.21875 31.78125 74.21875 \nz\n\" id=\"DejaVuSans-48\"/>\n       </defs>\n       <use xlink:href=\"#DejaVuSans-48\"/>\n      </g>\n     </g>\n    </g>\n    <g id=\"xtick_2\">\n     <g id=\"line2d_2\">\n      <g>\n       <use style=\"stroke:#000000;stroke-width:0.8;\" x=\"197.320625\" xlink:href=\"#mb05a4e10ae\" y=\"224.64\"/>\n      </g>\n     </g>\n     <g id=\"text_2\">\n      <!-- 1 -->\n      <g transform=\"translate(194.139375 239.238438)scale(0.1 -0.1)\">\n       <defs>\n        <path d=\"M 12.40625 8.296875 \nL 28.515625 8.296875 \nL 28.515625 63.921875 \nL 10.984375 60.40625 \nL 10.984375 69.390625 \nL 28.421875 72.90625 \nL 38.28125 72.90625 \nL 38.28125 8.296875 \nL 54.390625 8.296875 \nL 54.390625 0 \nL 12.40625 0 \nz\n\" id=\"DejaVuSans-49\"/>\n       </defs>\n       <use xlink:href=\"#DejaVuSans-49\"/>\n      </g>\n     </g>\n    </g>\n    <g id=\"text_3\">\n     <!-- Predicted label -->\n     <g transform=\"translate(105.808281 252.916563)scale(0.1 -0.1)\">\n      <defs>\n       <path d=\"M 19.671875 64.796875 \nL 19.671875 37.40625 \nL 32.078125 37.40625 \nQ 38.96875 37.40625 42.71875 40.96875 \nQ 46.484375 44.53125 46.484375 51.125 \nQ 46.484375 57.671875 42.71875 61.234375 \nQ 38.96875 64.796875 32.078125 64.796875 \nz\nM 9.8125 72.90625 \nL 32.078125 72.90625 \nQ 44.34375 72.90625 50.609375 67.359375 \nQ 56.890625 61.8125 56.890625 51.125 \nQ 56.890625 40.328125 50.609375 34.8125 \nQ 44.34375 29.296875 32.078125 29.296875 \nL 19.671875 29.296875 \nL 19.671875 0 \nL 9.8125 0 \nz\n\" id=\"DejaVuSans-80\"/>\n       <path d=\"M 41.109375 46.296875 \nQ 39.59375 47.171875 37.8125 47.578125 \nQ 36.03125 48 33.890625 48 \nQ 26.265625 48 22.1875 43.046875 \nQ 18.109375 38.09375 18.109375 28.8125 \nL 18.109375 0 \nL 9.078125 0 \nL 9.078125 54.6875 \nL 18.109375 54.6875 \nL 18.109375 46.1875 \nQ 20.953125 51.171875 25.484375 53.578125 \nQ 30.03125 56 36.53125 56 \nQ 37.453125 56 38.578125 55.875 \nQ 39.703125 55.765625 41.0625 55.515625 \nz\n\" id=\"DejaVuSans-114\"/>\n       <path d=\"M 56.203125 29.59375 \nL 56.203125 25.203125 \nL 14.890625 25.203125 \nQ 15.484375 15.921875 20.484375 11.0625 \nQ 25.484375 6.203125 34.421875 6.203125 \nQ 39.59375 6.203125 44.453125 7.46875 \nQ 49.3125 8.734375 54.109375 11.28125 \nL 54.109375 2.78125 \nQ 49.265625 0.734375 44.1875 -0.34375 \nQ 39.109375 -1.421875 33.890625 -1.421875 \nQ 20.796875 -1.421875 13.15625 6.1875 \nQ 5.515625 13.8125 5.515625 26.8125 \nQ 5.515625 40.234375 12.765625 48.109375 \nQ 20.015625 56 32.328125 56 \nQ 43.359375 56 49.78125 48.890625 \nQ 56.203125 41.796875 56.203125 29.59375 \nz\nM 47.21875 32.234375 \nQ 47.125 39.59375 43.09375 43.984375 \nQ 39.0625 48.390625 32.421875 48.390625 \nQ 24.90625 48.390625 20.390625 44.140625 \nQ 15.875 39.890625 15.1875 32.171875 \nz\n\" id=\"DejaVuSans-101\"/>\n       <path d=\"M 45.40625 46.390625 \nL 45.40625 75.984375 \nL 54.390625 75.984375 \nL 54.390625 0 \nL 45.40625 0 \nL 45.40625 8.203125 \nQ 42.578125 3.328125 38.25 0.953125 \nQ 33.9375 -1.421875 27.875 -1.421875 \nQ 17.96875 -1.421875 11.734375 6.484375 \nQ 5.515625 14.40625 5.515625 27.296875 \nQ 5.515625 40.1875 11.734375 48.09375 \nQ 17.96875 56 27.875 56 \nQ 33.9375 56 38.25 53.625 \nQ 42.578125 51.265625 45.40625 46.390625 \nz\nM 14.796875 27.296875 \nQ 14.796875 17.390625 18.875 11.75 \nQ 22.953125 6.109375 30.078125 6.109375 \nQ 37.203125 6.109375 41.296875 11.75 \nQ 45.40625 17.390625 45.40625 27.296875 \nQ 45.40625 37.203125 41.296875 42.84375 \nQ 37.203125 48.484375 30.078125 48.484375 \nQ 22.953125 48.484375 18.875 42.84375 \nQ 14.796875 37.203125 14.796875 27.296875 \nz\n\" id=\"DejaVuSans-100\"/>\n       <path d=\"M 9.421875 54.6875 \nL 18.40625 54.6875 \nL 18.40625 0 \nL 9.421875 0 \nz\nM 9.421875 75.984375 \nL 18.40625 75.984375 \nL 18.40625 64.59375 \nL 9.421875 64.59375 \nz\n\" id=\"DejaVuSans-105\"/>\n       <path d=\"M 48.78125 52.59375 \nL 48.78125 44.1875 \nQ 44.96875 46.296875 41.140625 47.34375 \nQ 37.3125 48.390625 33.40625 48.390625 \nQ 24.65625 48.390625 19.8125 42.84375 \nQ 14.984375 37.3125 14.984375 27.296875 \nQ 14.984375 17.28125 19.8125 11.734375 \nQ 24.65625 6.203125 33.40625 6.203125 \nQ 37.3125 6.203125 41.140625 7.25 \nQ 44.96875 8.296875 48.78125 10.40625 \nL 48.78125 2.09375 \nQ 45.015625 0.34375 40.984375 -0.53125 \nQ 36.96875 -1.421875 32.421875 -1.421875 \nQ 20.0625 -1.421875 12.78125 6.34375 \nQ 5.515625 14.109375 5.515625 27.296875 \nQ 5.515625 40.671875 12.859375 48.328125 \nQ 20.21875 56 33.015625 56 \nQ 37.15625 56 41.109375 55.140625 \nQ 45.0625 54.296875 48.78125 52.59375 \nz\n\" id=\"DejaVuSans-99\"/>\n       <path d=\"M 18.3125 70.21875 \nL 18.3125 54.6875 \nL 36.8125 54.6875 \nL 36.8125 47.703125 \nL 18.3125 47.703125 \nL 18.3125 18.015625 \nQ 18.3125 11.328125 20.140625 9.421875 \nQ 21.96875 7.515625 27.59375 7.515625 \nL 36.8125 7.515625 \nL 36.8125 0 \nL 27.59375 0 \nQ 17.1875 0 13.234375 3.875 \nQ 9.28125 7.765625 9.28125 18.015625 \nL 9.28125 47.703125 \nL 2.6875 47.703125 \nL 2.6875 54.6875 \nL 9.28125 54.6875 \nL 9.28125 70.21875 \nz\n\" id=\"DejaVuSans-116\"/>\n       <path id=\"DejaVuSans-32\"/>\n       <path d=\"M 9.421875 75.984375 \nL 18.40625 75.984375 \nL 18.40625 0 \nL 9.421875 0 \nz\n\" id=\"DejaVuSans-108\"/>\n       <path d=\"M 34.28125 27.484375 \nQ 23.390625 27.484375 19.1875 25 \nQ 14.984375 22.515625 14.984375 16.5 \nQ 14.984375 11.71875 18.140625 8.90625 \nQ 21.296875 6.109375 26.703125 6.109375 \nQ 34.1875 6.109375 38.703125 11.40625 \nQ 43.21875 16.703125 43.21875 25.484375 \nL 43.21875 27.484375 \nz\nM 52.203125 31.203125 \nL 52.203125 0 \nL 43.21875 0 \nL 43.21875 8.296875 \nQ 40.140625 3.328125 35.546875 0.953125 \nQ 30.953125 -1.421875 24.3125 -1.421875 \nQ 15.921875 -1.421875 10.953125 3.296875 \nQ 6 8.015625 6 15.921875 \nQ 6 25.140625 12.171875 29.828125 \nQ 18.359375 34.515625 30.609375 34.515625 \nL 43.21875 34.515625 \nL 43.21875 35.40625 \nQ 43.21875 41.609375 39.140625 45 \nQ 35.0625 48.390625 27.6875 48.390625 \nQ 23 48.390625 18.546875 47.265625 \nQ 14.109375 46.140625 10.015625 43.890625 \nL 10.015625 52.203125 \nQ 14.9375 54.109375 19.578125 55.046875 \nQ 24.21875 56 28.609375 56 \nQ 40.484375 56 46.34375 49.84375 \nQ 52.203125 43.703125 52.203125 31.203125 \nz\n\" id=\"DejaVuSans-97\"/>\n       <path d=\"M 48.6875 27.296875 \nQ 48.6875 37.203125 44.609375 42.84375 \nQ 40.53125 48.484375 33.40625 48.484375 \nQ 26.265625 48.484375 22.1875 42.84375 \nQ 18.109375 37.203125 18.109375 27.296875 \nQ 18.109375 17.390625 22.1875 11.75 \nQ 26.265625 6.109375 33.40625 6.109375 \nQ 40.53125 6.109375 44.609375 11.75 \nQ 48.6875 17.390625 48.6875 27.296875 \nz\nM 18.109375 46.390625 \nQ 20.953125 51.265625 25.265625 53.625 \nQ 29.59375 56 35.59375 56 \nQ 45.5625 56 51.78125 48.09375 \nQ 58.015625 40.1875 58.015625 27.296875 \nQ 58.015625 14.40625 51.78125 6.484375 \nQ 45.5625 -1.421875 35.59375 -1.421875 \nQ 29.59375 -1.421875 25.265625 0.953125 \nQ 20.953125 3.328125 18.109375 8.203125 \nL 18.109375 0 \nL 9.078125 0 \nL 9.078125 75.984375 \nL 18.109375 75.984375 \nz\n\" id=\"DejaVuSans-98\"/>\n      </defs>\n      <use xlink:href=\"#DejaVuSans-80\"/>\n      <use x=\"58.552734\" xlink:href=\"#DejaVuSans-114\"/>\n      <use x=\"97.416016\" xlink:href=\"#DejaVuSans-101\"/>\n      <use x=\"158.939453\" xlink:href=\"#DejaVuSans-100\"/>\n      <use x=\"222.416016\" xlink:href=\"#DejaVuSans-105\"/>\n      <use x=\"250.199219\" xlink:href=\"#DejaVuSans-99\"/>\n      <use x=\"305.179688\" xlink:href=\"#DejaVuSans-116\"/>\n      <use x=\"344.388672\" xlink:href=\"#DejaVuSans-101\"/>\n      <use x=\"405.912109\" xlink:href=\"#DejaVuSans-100\"/>\n      <use x=\"469.388672\" xlink:href=\"#DejaVuSans-32\"/>\n      <use x=\"501.175781\" xlink:href=\"#DejaVuSans-108\"/>\n      <use x=\"528.958984\" xlink:href=\"#DejaVuSans-97\"/>\n      <use x=\"590.238281\" xlink:href=\"#DejaVuSans-98\"/>\n      <use x=\"653.714844\" xlink:href=\"#DejaVuSans-101\"/>\n      <use x=\"715.238281\" xlink:href=\"#DejaVuSans-108\"/>\n     </g>\n    </g>\n   </g>\n   <g id=\"matplotlib.axis_2\">\n    <g id=\"ytick_1\">\n     <g id=\"line2d_3\">\n      <defs>\n       <path d=\"M 0 0 \nL -3.5 0 \n\" id=\"mf7e1938acc\" style=\"stroke:#000000;stroke-width:0.8;\"/>\n      </defs>\n      <g>\n       <use style=\"stroke:#000000;stroke-width:0.8;\" x=\"34.240625\" xlink:href=\"#mf7e1938acc\" y=\"61.56\"/>\n      </g>\n     </g>\n     <g id=\"text_4\">\n      <!-- 0 -->\n      <g transform=\"translate(20.878125 65.359219)scale(0.1 -0.1)\">\n       <use xlink:href=\"#DejaVuSans-48\"/>\n      </g>\n     </g>\n    </g>\n    <g id=\"ytick_2\">\n     <g id=\"line2d_4\">\n      <g>\n       <use style=\"stroke:#000000;stroke-width:0.8;\" x=\"34.240625\" xlink:href=\"#mf7e1938acc\" y=\"170.28\"/>\n      </g>\n     </g>\n     <g id=\"text_5\">\n      <!-- 1 -->\n      <g transform=\"translate(20.878125 174.079219)scale(0.1 -0.1)\">\n       <use xlink:href=\"#DejaVuSans-49\"/>\n      </g>\n     </g>\n    </g>\n    <g id=\"text_6\">\n     <!-- True label -->\n     <g transform=\"translate(14.798437 140.219219)rotate(-90)scale(0.1 -0.1)\">\n      <defs>\n       <path d=\"M -0.296875 72.90625 \nL 61.375 72.90625 \nL 61.375 64.59375 \nL 35.5 64.59375 \nL 35.5 0 \nL 25.59375 0 \nL 25.59375 64.59375 \nL -0.296875 64.59375 \nz\n\" id=\"DejaVuSans-84\"/>\n       <path d=\"M 8.5 21.578125 \nL 8.5 54.6875 \nL 17.484375 54.6875 \nL 17.484375 21.921875 \nQ 17.484375 14.15625 20.5 10.265625 \nQ 23.53125 6.390625 29.59375 6.390625 \nQ 36.859375 6.390625 41.078125 11.03125 \nQ 45.3125 15.671875 45.3125 23.6875 \nL 45.3125 54.6875 \nL 54.296875 54.6875 \nL 54.296875 0 \nL 45.3125 0 \nL 45.3125 8.40625 \nQ 42.046875 3.421875 37.71875 1 \nQ 33.40625 -1.421875 27.6875 -1.421875 \nQ 18.265625 -1.421875 13.375 4.4375 \nQ 8.5 10.296875 8.5 21.578125 \nz\nM 31.109375 56 \nz\n\" id=\"DejaVuSans-117\"/>\n      </defs>\n      <use xlink:href=\"#DejaVuSans-84\"/>\n      <use x=\"46.333984\" xlink:href=\"#DejaVuSans-114\"/>\n      <use x=\"87.447266\" xlink:href=\"#DejaVuSans-117\"/>\n      <use x=\"150.826172\" xlink:href=\"#DejaVuSans-101\"/>\n      <use x=\"212.349609\" xlink:href=\"#DejaVuSans-32\"/>\n      <use x=\"244.136719\" xlink:href=\"#DejaVuSans-108\"/>\n      <use x=\"271.919922\" xlink:href=\"#DejaVuSans-97\"/>\n      <use x=\"333.199219\" xlink:href=\"#DejaVuSans-98\"/>\n      <use x=\"396.675781\" xlink:href=\"#DejaVuSans-101\"/>\n      <use x=\"458.199219\" xlink:href=\"#DejaVuSans-108\"/>\n     </g>\n    </g>\n   </g>\n   <g id=\"patch_3\">\n    <path d=\"M 34.240625 224.64 \nL 34.240625 7.2 \n\" style=\"fill:none;stroke:#000000;stroke-linecap:square;stroke-linejoin:miter;stroke-width:0.8;\"/>\n   </g>\n   <g id=\"patch_4\">\n    <path d=\"M 251.680625 224.64 \nL 251.680625 7.2 \n\" style=\"fill:none;stroke:#000000;stroke-linecap:square;stroke-linejoin:miter;stroke-width:0.8;\"/>\n   </g>\n   <g id=\"patch_5\">\n    <path d=\"M 34.240625 224.64 \nL 251.680625 224.64 \n\" style=\"fill:none;stroke:#000000;stroke-linecap:square;stroke-linejoin:miter;stroke-width:0.8;\"/>\n   </g>\n   <g id=\"patch_6\">\n    <path d=\"M 34.240625 7.2 \nL 251.680625 7.2 \n\" style=\"fill:none;stroke:#000000;stroke-linecap:square;stroke-linejoin:miter;stroke-width:0.8;\"/>\n   </g>\n   <g id=\"text_7\">\n    <!-- 0.83 -->\n    <g style=\"fill:#f7fbff;\" transform=\"translate(77.467812 64.319375)scale(0.1 -0.1)\">\n     <defs>\n      <path d=\"M 10.6875 12.40625 \nL 21 12.40625 \nL 21 0 \nL 10.6875 0 \nz\n\" id=\"DejaVuSans-46\"/>\n      <path d=\"M 31.78125 34.625 \nQ 24.75 34.625 20.71875 30.859375 \nQ 16.703125 27.09375 16.703125 20.515625 \nQ 16.703125 13.921875 20.71875 10.15625 \nQ 24.75 6.390625 31.78125 6.390625 \nQ 38.8125 6.390625 42.859375 10.171875 \nQ 46.921875 13.96875 46.921875 20.515625 \nQ 46.921875 27.09375 42.890625 30.859375 \nQ 38.875 34.625 31.78125 34.625 \nz\nM 21.921875 38.8125 \nQ 15.578125 40.375 12.03125 44.71875 \nQ 8.5 49.078125 8.5 55.328125 \nQ 8.5 64.0625 14.71875 69.140625 \nQ 20.953125 74.21875 31.78125 74.21875 \nQ 42.671875 74.21875 48.875 69.140625 \nQ 55.078125 64.0625 55.078125 55.328125 \nQ 55.078125 49.078125 51.53125 44.71875 \nQ 48 40.375 41.703125 38.8125 \nQ 48.828125 37.15625 52.796875 32.3125 \nQ 56.78125 27.484375 56.78125 20.515625 \nQ 56.78125 9.90625 50.3125 4.234375 \nQ 43.84375 -1.421875 31.78125 -1.421875 \nQ 19.734375 -1.421875 13.25 4.234375 \nQ 6.78125 9.90625 6.78125 20.515625 \nQ 6.78125 27.484375 10.78125 32.3125 \nQ 14.796875 37.15625 21.921875 38.8125 \nz\nM 18.3125 54.390625 \nQ 18.3125 48.734375 21.84375 45.5625 \nQ 25.390625 42.390625 31.78125 42.390625 \nQ 38.140625 42.390625 41.71875 45.5625 \nQ 45.3125 48.734375 45.3125 54.390625 \nQ 45.3125 60.0625 41.71875 63.234375 \nQ 38.140625 66.40625 31.78125 66.40625 \nQ 25.390625 66.40625 21.84375 63.234375 \nQ 18.3125 60.0625 18.3125 54.390625 \nz\n\" id=\"DejaVuSans-56\"/>\n      <path d=\"M 40.578125 39.3125 \nQ 47.65625 37.796875 51.625 33 \nQ 55.609375 28.21875 55.609375 21.1875 \nQ 55.609375 10.40625 48.1875 4.484375 \nQ 40.765625 -1.421875 27.09375 -1.421875 \nQ 22.515625 -1.421875 17.65625 -0.515625 \nQ 12.796875 0.390625 7.625 2.203125 \nL 7.625 11.71875 \nQ 11.71875 9.328125 16.59375 8.109375 \nQ 21.484375 6.890625 26.8125 6.890625 \nQ 36.078125 6.890625 40.9375 10.546875 \nQ 45.796875 14.203125 45.796875 21.1875 \nQ 45.796875 27.640625 41.28125 31.265625 \nQ 36.765625 34.90625 28.71875 34.90625 \nL 20.21875 34.90625 \nL 20.21875 43.015625 \nL 29.109375 43.015625 \nQ 36.375 43.015625 40.234375 45.921875 \nQ 44.09375 48.828125 44.09375 54.296875 \nQ 44.09375 59.90625 40.109375 62.90625 \nQ 36.140625 65.921875 28.71875 65.921875 \nQ 24.65625 65.921875 20.015625 65.03125 \nQ 15.375 64.15625 9.8125 62.3125 \nL 9.8125 71.09375 \nQ 15.4375 72.65625 20.34375 73.4375 \nQ 25.25 74.21875 29.59375 74.21875 \nQ 40.828125 74.21875 47.359375 69.109375 \nQ 53.90625 64.015625 53.90625 55.328125 \nQ 53.90625 49.265625 50.4375 45.09375 \nQ 46.96875 40.921875 40.578125 39.3125 \nz\n\" id=\"DejaVuSans-51\"/>\n     </defs>\n     <use xlink:href=\"#DejaVuSans-48\"/>\n     <use x=\"63.623047\" xlink:href=\"#DejaVuSans-46\"/>\n     <use x=\"95.410156\" xlink:href=\"#DejaVuSans-56\"/>\n     <use x=\"159.033203\" xlink:href=\"#DejaVuSans-51\"/>\n    </g>\n   </g>\n   <g id=\"text_8\">\n    <!-- 0.17 -->\n    <g style=\"fill:#08306b;\" transform=\"translate(186.187812 64.319375)scale(0.1 -0.1)\">\n     <defs>\n      <path d=\"M 8.203125 72.90625 \nL 55.078125 72.90625 \nL 55.078125 68.703125 \nL 28.609375 0 \nL 18.3125 0 \nL 43.21875 64.59375 \nL 8.203125 64.59375 \nz\n\" id=\"DejaVuSans-55\"/>\n     </defs>\n     <use xlink:href=\"#DejaVuSans-48\"/>\n     <use x=\"63.623047\" xlink:href=\"#DejaVuSans-46\"/>\n     <use x=\"95.410156\" xlink:href=\"#DejaVuSans-49\"/>\n     <use x=\"159.033203\" xlink:href=\"#DejaVuSans-55\"/>\n    </g>\n   </g>\n   <g id=\"text_9\">\n    <!-- 0.22 -->\n    <g style=\"fill:#08306b;\" transform=\"translate(77.467812 173.039375)scale(0.1 -0.1)\">\n     <defs>\n      <path d=\"M 19.1875 8.296875 \nL 53.609375 8.296875 \nL 53.609375 0 \nL 7.328125 0 \nL 7.328125 8.296875 \nQ 12.9375 14.109375 22.625 23.890625 \nQ 32.328125 33.6875 34.8125 36.53125 \nQ 39.546875 41.84375 41.421875 45.53125 \nQ 43.3125 49.21875 43.3125 52.78125 \nQ 43.3125 58.59375 39.234375 62.25 \nQ 35.15625 65.921875 28.609375 65.921875 \nQ 23.96875 65.921875 18.8125 64.3125 \nQ 13.671875 62.703125 7.8125 59.421875 \nL 7.8125 69.390625 \nQ 13.765625 71.78125 18.9375 73 \nQ 24.125 74.21875 28.421875 74.21875 \nQ 39.75 74.21875 46.484375 68.546875 \nQ 53.21875 62.890625 53.21875 53.421875 \nQ 53.21875 48.921875 51.53125 44.890625 \nQ 49.859375 40.875 45.40625 35.40625 \nQ 44.1875 33.984375 37.640625 27.21875 \nQ 31.109375 20.453125 19.1875 8.296875 \nz\n\" id=\"DejaVuSans-50\"/>\n     </defs>\n     <use xlink:href=\"#DejaVuSans-48\"/>\n     <use x=\"63.623047\" xlink:href=\"#DejaVuSans-46\"/>\n     <use x=\"95.410156\" xlink:href=\"#DejaVuSans-50\"/>\n     <use x=\"159.033203\" xlink:href=\"#DejaVuSans-50\"/>\n    </g>\n   </g>\n   <g id=\"text_10\">\n    <!-- 0.78 -->\n    <g style=\"fill:#f7fbff;\" transform=\"translate(186.187812 173.039375)scale(0.1 -0.1)\">\n     <use xlink:href=\"#DejaVuSans-48\"/>\n     <use x=\"63.623047\" xlink:href=\"#DejaVuSans-46\"/>\n     <use x=\"95.410156\" xlink:href=\"#DejaVuSans-55\"/>\n     <use x=\"159.033203\" xlink:href=\"#DejaVuSans-56\"/>\n    </g>\n   </g>\n  </g>\n  <g id=\"axes_2\">\n   <g id=\"patch_7\">\n    <path clip-path=\"url(#p896b89836f)\" d=\"M 268.420625 224.64 \nL 268.420625 223.790625 \nL 268.420625 8.049375 \nL 268.420625 7.2 \nL 279.292625 7.2 \nL 279.292625 8.049375 \nL 279.292625 223.790625 \nL 279.292625 224.64 \nz\n\" style=\"fill:#ffffff;stroke:#ffffff;stroke-linejoin:miter;stroke-width:0.01;\"/>\n   </g>\n   <image height=\"217\" id=\"image9529259b06\" transform=\"scale(1 -1)translate(0 -217)\" width=\"11\" x=\"268\" xlink:href=\"data:image/png;base64,\niVBORw0KGgoAAAANSUhEUgAAAAsAAADZCAYAAAD2WsoCAAABHElEQVR4nO2YMQ4CMRADA8r/n0uByIYWukwxyIvuamvl2F4nutvjufc4/OYex9gxz+diMKEBsGMCLORcAH0HLEzpQhyEkwEYZgNwLk26kSEdzAbh7NHQeoPZ3bC+OvZGinRX+H9CI0Q67VWQckBkNzygdsNqDi50wAzOlZHnOh/stqjFuUBGGWezN8Dk5VWBlzrtcYKqQGxR7e5eJM9eP3sOIp0X6ALTwXOsScPLBrQ7osw9ndk9KLaot7AR0nn93DEbaLs9nc2/EKj5I3YwJBvslctoRKgBD2jRCJls2g1oeEHy7O4YpJDtZn8CxWycvxlTODNwht0h2fh/u69sfICh3YhGw8n1sia3VGNF0ECTycJedn+BO9ptTX4DblXiEVeBW/gAAAAASUVORK5CYII=\" y=\"-7\"/>\n   <g id=\"matplotlib.axis_3\"/>\n   <g id=\"matplotlib.axis_4\">\n    <g id=\"ytick_3\">\n     <g id=\"line2d_5\">\n      <defs>\n       <path d=\"M 0 0 \nL 3.5 0 \n\" id=\"m769819645d\" style=\"stroke:#000000;stroke-width:0.8;\"/>\n      </defs>\n      <g>\n       <use style=\"stroke:#000000;stroke-width:0.8;\" x=\"279.292625\" xlink:href=\"#m769819645d\" y=\"214.820129\"/>\n      </g>\n     </g>\n     <g id=\"text_11\">\n      <!-- 0.2 -->\n      <g transform=\"translate(286.292625 218.619348)scale(0.1 -0.1)\">\n       <use xlink:href=\"#DejaVuSans-48\"/>\n       <use x=\"63.623047\" xlink:href=\"#DejaVuSans-46\"/>\n       <use x=\"95.410156\" xlink:href=\"#DejaVuSans-50\"/>\n      </g>\n     </g>\n    </g>\n    <g id=\"ytick_4\">\n     <g id=\"line2d_6\">\n      <g>\n       <use style=\"stroke:#000000;stroke-width:0.8;\" x=\"279.292625\" xlink:href=\"#m769819645d\" y=\"181.853419\"/>\n      </g>\n     </g>\n     <g id=\"text_12\">\n      <!-- 0.3 -->\n      <g transform=\"translate(286.292625 185.652638)scale(0.1 -0.1)\">\n       <use xlink:href=\"#DejaVuSans-48\"/>\n       <use x=\"63.623047\" xlink:href=\"#DejaVuSans-46\"/>\n       <use x=\"95.410156\" xlink:href=\"#DejaVuSans-51\"/>\n      </g>\n     </g>\n    </g>\n    <g id=\"ytick_5\">\n     <g id=\"line2d_7\">\n      <g>\n       <use style=\"stroke:#000000;stroke-width:0.8;\" x=\"279.292625\" xlink:href=\"#m769819645d\" y=\"148.88671\"/>\n      </g>\n     </g>\n     <g id=\"text_13\">\n      <!-- 0.4 -->\n      <g transform=\"translate(286.292625 152.685928)scale(0.1 -0.1)\">\n       <defs>\n        <path d=\"M 37.796875 64.3125 \nL 12.890625 25.390625 \nL 37.796875 25.390625 \nz\nM 35.203125 72.90625 \nL 47.609375 72.90625 \nL 47.609375 25.390625 \nL 58.015625 25.390625 \nL 58.015625 17.1875 \nL 47.609375 17.1875 \nL 47.609375 0 \nL 37.796875 0 \nL 37.796875 17.1875 \nL 4.890625 17.1875 \nL 4.890625 26.703125 \nz\n\" id=\"DejaVuSans-52\"/>\n       </defs>\n       <use xlink:href=\"#DejaVuSans-48\"/>\n       <use x=\"63.623047\" xlink:href=\"#DejaVuSans-46\"/>\n       <use x=\"95.410156\" xlink:href=\"#DejaVuSans-52\"/>\n      </g>\n     </g>\n    </g>\n    <g id=\"ytick_6\">\n     <g id=\"line2d_8\">\n      <g>\n       <use style=\"stroke:#000000;stroke-width:0.8;\" x=\"279.292625\" xlink:href=\"#m769819645d\" y=\"115.92\"/>\n      </g>\n     </g>\n     <g id=\"text_14\">\n      <!-- 0.5 -->\n      <g transform=\"translate(286.292625 119.719219)scale(0.1 -0.1)\">\n       <defs>\n        <path d=\"M 10.796875 72.90625 \nL 49.515625 72.90625 \nL 49.515625 64.59375 \nL 19.828125 64.59375 \nL 19.828125 46.734375 \nQ 21.96875 47.46875 24.109375 47.828125 \nQ 26.265625 48.1875 28.421875 48.1875 \nQ 40.625 48.1875 47.75 41.5 \nQ 54.890625 34.8125 54.890625 23.390625 \nQ 54.890625 11.625 47.5625 5.09375 \nQ 40.234375 -1.421875 26.90625 -1.421875 \nQ 22.3125 -1.421875 17.546875 -0.640625 \nQ 12.796875 0.140625 7.71875 1.703125 \nL 7.71875 11.625 \nQ 12.109375 9.234375 16.796875 8.0625 \nQ 21.484375 6.890625 26.703125 6.890625 \nQ 35.15625 6.890625 40.078125 11.328125 \nQ 45.015625 15.765625 45.015625 23.390625 \nQ 45.015625 31 40.078125 35.4375 \nQ 35.15625 39.890625 26.703125 39.890625 \nQ 22.75 39.890625 18.8125 39.015625 \nQ 14.890625 38.140625 10.796875 36.28125 \nz\n\" id=\"DejaVuSans-53\"/>\n       </defs>\n       <use xlink:href=\"#DejaVuSans-48\"/>\n       <use x=\"63.623047\" xlink:href=\"#DejaVuSans-46\"/>\n       <use x=\"95.410156\" xlink:href=\"#DejaVuSans-53\"/>\n      </g>\n     </g>\n    </g>\n    <g id=\"ytick_7\">\n     <g id=\"line2d_9\">\n      <g>\n       <use style=\"stroke:#000000;stroke-width:0.8;\" x=\"279.292625\" xlink:href=\"#m769819645d\" y=\"82.95329\"/>\n      </g>\n     </g>\n     <g id=\"text_15\">\n      <!-- 0.6 -->\n      <g transform=\"translate(286.292625 86.752509)scale(0.1 -0.1)\">\n       <defs>\n        <path d=\"M 33.015625 40.375 \nQ 26.375 40.375 22.484375 35.828125 \nQ 18.609375 31.296875 18.609375 23.390625 \nQ 18.609375 15.53125 22.484375 10.953125 \nQ 26.375 6.390625 33.015625 6.390625 \nQ 39.65625 6.390625 43.53125 10.953125 \nQ 47.40625 15.53125 47.40625 23.390625 \nQ 47.40625 31.296875 43.53125 35.828125 \nQ 39.65625 40.375 33.015625 40.375 \nz\nM 52.59375 71.296875 \nL 52.59375 62.3125 \nQ 48.875 64.0625 45.09375 64.984375 \nQ 41.3125 65.921875 37.59375 65.921875 \nQ 27.828125 65.921875 22.671875 59.328125 \nQ 17.53125 52.734375 16.796875 39.40625 \nQ 19.671875 43.65625 24.015625 45.921875 \nQ 28.375 48.1875 33.59375 48.1875 \nQ 44.578125 48.1875 50.953125 41.515625 \nQ 57.328125 34.859375 57.328125 23.390625 \nQ 57.328125 12.15625 50.6875 5.359375 \nQ 44.046875 -1.421875 33.015625 -1.421875 \nQ 20.359375 -1.421875 13.671875 8.265625 \nQ 6.984375 17.96875 6.984375 36.375 \nQ 6.984375 53.65625 15.1875 63.9375 \nQ 23.390625 74.21875 37.203125 74.21875 \nQ 40.921875 74.21875 44.703125 73.484375 \nQ 48.484375 72.75 52.59375 71.296875 \nz\n\" id=\"DejaVuSans-54\"/>\n       </defs>\n       <use xlink:href=\"#DejaVuSans-48\"/>\n       <use x=\"63.623047\" xlink:href=\"#DejaVuSans-46\"/>\n       <use x=\"95.410156\" xlink:href=\"#DejaVuSans-54\"/>\n      </g>\n     </g>\n    </g>\n    <g id=\"ytick_8\">\n     <g id=\"line2d_10\">\n      <g>\n       <use style=\"stroke:#000000;stroke-width:0.8;\" x=\"279.292625\" xlink:href=\"#m769819645d\" y=\"49.986581\"/>\n      </g>\n     </g>\n     <g id=\"text_16\">\n      <!-- 0.7 -->\n      <g transform=\"translate(286.292625 53.785799)scale(0.1 -0.1)\">\n       <use xlink:href=\"#DejaVuSans-48\"/>\n       <use x=\"63.623047\" xlink:href=\"#DejaVuSans-46\"/>\n       <use x=\"95.410156\" xlink:href=\"#DejaVuSans-55\"/>\n      </g>\n     </g>\n    </g>\n    <g id=\"ytick_9\">\n     <g id=\"line2d_11\">\n      <g>\n       <use style=\"stroke:#000000;stroke-width:0.8;\" x=\"279.292625\" xlink:href=\"#m769819645d\" y=\"17.019871\"/>\n      </g>\n     </g>\n     <g id=\"text_17\">\n      <!-- 0.8 -->\n      <g transform=\"translate(286.292625 20.81909)scale(0.1 -0.1)\">\n       <use xlink:href=\"#DejaVuSans-48\"/>\n       <use x=\"63.623047\" xlink:href=\"#DejaVuSans-46\"/>\n       <use x=\"95.410156\" xlink:href=\"#DejaVuSans-56\"/>\n      </g>\n     </g>\n    </g>\n   </g>\n   <g id=\"patch_8\">\n    <path d=\"M 268.420625 224.64 \nL 268.420625 223.790625 \nL 268.420625 8.049375 \nL 268.420625 7.2 \nL 279.292625 7.2 \nL 279.292625 8.049375 \nL 279.292625 223.790625 \nL 279.292625 224.64 \nz\n\" style=\"fill:none;stroke:#000000;stroke-linejoin:miter;stroke-width:0.8;\"/>\n   </g>\n  </g>\n </g>\n <defs>\n  <clipPath id=\"p1c3eeeabcc\">\n   <rect height=\"217.44\" width=\"217.44\" x=\"34.240625\" y=\"7.2\"/>\n  </clipPath>\n  <clipPath id=\"p896b89836f\">\n   <rect height=\"217.44\" width=\"10.872\" x=\"268.420625\" y=\"7.2\"/>\n  </clipPath>\n </defs>\n</svg>\n",
      "image/png": "[encoded data removed]"
     },
     "metadata": {
      "needs_background": "light"
     }
    }
   ],
   "source": [
    "plot_confusion_matrix(clf_final, X_test, y_test,cmap=plt.cm.Blues,normalize='true')  "
   ]
  },
  {
   "cell_type": "markdown",
   "metadata": {},
   "source": [
    "### Saving the model"
   ]
  },
  {
   "cell_type": "code",
   "execution_count": 20,
   "metadata": {},
   "outputs": [
    {
     "output_type": "execute_result",
     "data": {
      "text/plain": [
       "['Q3Model.joblib']"
      ]
     },
     "metadata": {},
     "execution_count": 20
    }
   ],
   "source": [
    "from joblib import dump, load\n",
    "dump(clf_final, 'Q3Model.joblib') "
   ]
  },
  {
   "cell_type": "code",
   "execution_count": null,
   "metadata": {},
   "outputs": [],
   "source": []
  }
 ],
 "metadata": {
  "kernelspec": {
   "display_name": "Python 3",
   "language": "python",
   "name": "python3"
  },
  "language_info": {
   "codemirror_mode": {
    "name": "ipython",
    "version": 3
   },
   "file_extension": ".py",
   "mimetype": "text/x-python",
   "name": "python",
   "nbconvert_exporter": "python",
   "pygments_lexer": "ipython3",
   "version": "3.8.5"
  }
 },
 "nbformat": 4,
 "nbformat_minor": 4
}